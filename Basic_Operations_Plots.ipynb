{
 "cells": [
  {
   "cell_type": "markdown",
   "metadata": {
    "colab_type": "text",
    "id": "-9rcVXOL2ogw"
   },
   "source": [
    "## Hands on Lab & Homework\n"
   ]
  },
  {
   "cell_type": "markdown",
   "metadata": {
    "colab_type": "text",
    "id": "g1CW8ieH29hb"
   },
   "source": [
    "### Q1. Perform the following computation without use of any libraries\n",
    "\n",
    "\n",
    "```math\n",
    "    [1,2,3]\n",
    "A = [2,3,4]\n",
    "    [3,4,5]\n",
    "\n",
    "    [0,9,8]\n",
    "B = [9,8,7]\n",
    "    [8,7,6]\n",
    "```\n",
    "\n",
    "Given two matrices A & B perform the operations:\n",
    "* A + B\n",
    "* A - B\n",
    "* AB"
   ]
  },
  {
   "cell_type": "code",
   "execution_count": 13,
   "metadata": {
    "colab": {},
    "colab_type": "code",
    "id": "bsVUuAXChcuh"
   },
   "outputs": [],
   "source": [
    "# Perform computation here and display the result\n",
    "A=[[1,2,3],[2,3,4],[3,4,5]]\n",
    "B=[[0,9,8],[9,8,7],[8,7,6]]\n",
    "C=[[0,0,0],[0,0,0],[0,0,0]]\n",
    "\n"
   ]
  },
  {
   "cell_type": "markdown",
   "metadata": {},
   "source": [
    " A + B"
   ]
  },
  {
   "cell_type": "code",
   "execution_count": 14,
   "metadata": {},
   "outputs": [
    {
     "name": "stdout",
     "output_type": "stream",
     "text": [
      "[[1, 11, 11], [11, 11, 11], [11, 11, 11]]\n"
     ]
    }
   ],
   "source": [
    "for i in range(3):\n",
    "    for j in range(3):\n",
    "        C[i][j]=A[i][j]+B[i][j]\n",
    "        \n",
    "print(C)"
   ]
  },
  {
   "cell_type": "markdown",
   "metadata": {},
   "source": [
    "A-B"
   ]
  },
  {
   "cell_type": "code",
   "execution_count": 15,
   "metadata": {},
   "outputs": [
    {
     "name": "stdout",
     "output_type": "stream",
     "text": [
      "[[1, -7, -5], [-7, -5, -3], [-5, -3, -1]]\n"
     ]
    }
   ],
   "source": [
    "for i in range(3):\n",
    "    for j in range(3):\n",
    "        C[i][j]=A[i][j]-B[i][j]\n",
    "        \n",
    "print(C)\n",
    "\n"
   ]
  },
  {
   "cell_type": "markdown",
   "metadata": {},
   "source": [
    "AB"
   ]
  },
  {
   "cell_type": "code",
   "execution_count": 16,
   "metadata": {},
   "outputs": [
    {
     "name": "stdout",
     "output_type": "stream",
     "text": [
      "[[42, 46, 40], [59, 70, 61], [76, 94, 82]]\n"
     ]
    }
   ],
   "source": [
    "for i in range(3):\n",
    "    for j in range(3):\n",
    "        C[i][j]=A[i][0]*B[0][j]+A[i][1]*B[1][j]+A[i][2]*B[2][j]\n",
    "\n",
    "print(C)"
   ]
  },
  {
   "cell_type": "markdown",
   "metadata": {
    "colab_type": "text",
    "id": "LNaDbRzX7gT8"
   },
   "source": [
    "### Q2. Perform the same computation using Numpy package"
   ]
  },
  {
   "cell_type": "code",
   "execution_count": 17,
   "metadata": {
    "colab": {},
    "colab_type": "code",
    "id": "UBW8L4118D0H"
   },
   "outputs": [],
   "source": [
    "####\n",
    "import numpy as np"
   ]
  },
  {
   "cell_type": "markdown",
   "metadata": {},
   "source": [
    "A + B"
   ]
  },
  {
   "cell_type": "code",
   "execution_count": 19,
   "metadata": {},
   "outputs": [
    {
     "name": "stdout",
     "output_type": "stream",
     "text": [
      "[[ 1 11 11]\n",
      " [11 11 11]\n",
      " [11 11 11]]\n"
     ]
    }
   ],
   "source": [
    "D=np.add(A,B)\n",
    "print(D)"
   ]
  },
  {
   "cell_type": "markdown",
   "metadata": {},
   "source": [
    "A-B"
   ]
  },
  {
   "cell_type": "code",
   "execution_count": 20,
   "metadata": {},
   "outputs": [
    {
     "name": "stdout",
     "output_type": "stream",
     "text": [
      "[[ 1 -7 -5]\n",
      " [-7 -5 -3]\n",
      " [-5 -3 -1]]\n"
     ]
    }
   ],
   "source": [
    "D=np.subtract(A,B)\n",
    "print(D)"
   ]
  },
  {
   "cell_type": "markdown",
   "metadata": {},
   "source": [
    "A*B"
   ]
  },
  {
   "cell_type": "code",
   "execution_count": 23,
   "metadata": {},
   "outputs": [
    {
     "name": "stdout",
     "output_type": "stream",
     "text": [
      "[[42 46 40]\n",
      " [59 70 61]\n",
      " [76 94 82]]\n"
     ]
    }
   ],
   "source": [
    "D=np.multiply(A,B)\n",
    "\n",
    "A=np.array([[1,2,3],[2,3,4],[3,4,5]])\n",
    "B=np.array([[0,9,8],[9,8,7],[8,7,6]])\n",
    "D=A.dot(B)\n",
    "print(D)"
   ]
  },
  {
   "cell_type": "markdown",
   "metadata": {
    "colab_type": "text",
    "id": "kJ2l-Da_87du"
   },
   "source": [
    "###Q3. Compute using numpy\n",
    "* A<sup>T</sup>\n",
    "* B<sup>T</sup>\n",
    "* A<sup>T</sup>B<sup>T</sup>\n",
    "* AA<sup>T</sup>"
   ]
  },
  {
   "cell_type": "code",
   "execution_count": 25,
   "metadata": {
    "colab": {},
    "colab_type": "code",
    "id": "N9pGsuDb9Vt6"
   },
   "outputs": [
    {
     "name": "stdout",
     "output_type": "stream",
     "text": [
      "[[1 2 3]\n",
      " [2 3 4]\n",
      " [3 4 5]]\n"
     ]
    }
   ],
   "source": [
    "#### A transpose\n",
    "\n",
    "print(np.transpose(A))"
   ]
  },
  {
   "cell_type": "code",
   "execution_count": 27,
   "metadata": {},
   "outputs": [
    {
     "name": "stdout",
     "output_type": "stream",
     "text": [
      "[[0 9 8]\n",
      " [9 8 7]\n",
      " [8 7 6]]\n"
     ]
    }
   ],
   "source": [
    "print(np.transpose(B))"
   ]
  },
  {
   "cell_type": "code",
   "execution_count": 28,
   "metadata": {},
   "outputs": [
    {
     "name": "stdout",
     "output_type": "stream",
     "text": [
      "[[ 0 18 24]\n",
      " [18 24 28]\n",
      " [24 28 30]]\n"
     ]
    }
   ],
   "source": [
    "print(np.multiply(np.transpose(A),np.transpose(B)))"
   ]
  },
  {
   "cell_type": "code",
   "execution_count": 33,
   "metadata": {},
   "outputs": [
    {
     "name": "stdout",
     "output_type": "stream",
     "text": [
      "[[ 1  4  9]\n",
      " [ 4  9 16]\n",
      " [ 9 16 25]]\n"
     ]
    }
   ],
   "source": [
    "print(np.multiply(A, np.transpose(A)))"
   ]
  },
  {
   "cell_type": "markdown",
   "metadata": {
    "colab_type": "text",
    "id": "-b-ozbG7oVE1"
   },
   "source": [
    "### Q4. Load a dataset from file (data_1.csv)"
   ]
  },
  {
   "cell_type": "code",
   "execution_count": 56,
   "metadata": {
    "colab": {},
    "colab_type": "code",
    "id": "J8SCQNlvolNv"
   },
   "outputs": [],
   "source": [
    "####\n",
    "import pandas as pd\n",
    "data=pd.read_csv('data_1.csv')"
   ]
  },
  {
   "cell_type": "markdown",
   "metadata": {
    "colab_type": "text",
    "id": "C_zF_wFIolxP"
   },
   "source": [
    "### Q5. Print size of the matrix"
   ]
  },
  {
   "cell_type": "code",
   "execution_count": 57,
   "metadata": {
    "colab": {},
    "colab_type": "code",
    "id": "7kx-qwoRov1W"
   },
   "outputs": [
    {
     "data": {
      "text/plain": [
       "(9999, 2)"
      ]
     },
     "execution_count": 57,
     "metadata": {},
     "output_type": "execute_result"
    }
   ],
   "source": [
    "####\n",
    "data.shape\n"
   ]
  },
  {
   "cell_type": "markdown",
   "metadata": {
    "colab_type": "text",
    "id": "LtauOqfQoyOC"
   },
   "source": [
    "### Q6. Slice matrix into X value & Y Value"
   ]
  },
  {
   "cell_type": "code",
   "execution_count": 75,
   "metadata": {
    "colab": {},
    "colab_type": "code",
    "id": "Apo_m2Heo8FV"
   },
   "outputs": [],
   "source": [
    "####\n",
    "data2=np.array(data)\n",
    "X=data2[:,0]\n",
    "Y=data2[:,1]\n"
   ]
  },
  {
   "cell_type": "code",
   "execution_count": 76,
   "metadata": {},
   "outputs": [
    {
     "name": "stdout",
     "output_type": "stream",
     "text": [
      "[-0.70202519  0.05818474 -0.09766193 ...  1.35851447  0.66805519\n",
      "  0.19084289]\n"
     ]
    }
   ],
   "source": [
    "print(X)"
   ]
  },
  {
   "cell_type": "code",
   "execution_count": 77,
   "metadata": {},
   "outputs": [
    {
     "name": "stdout",
     "output_type": "stream",
     "text": [
      "[-1.93544494 -1.02032103 -1.85788877 ...  4.86744406  2.75352546\n",
      "  2.15642094]\n"
     ]
    }
   ],
   "source": [
    "print(Y)"
   ]
  },
  {
   "cell_type": "markdown",
   "metadata": {
    "colab_type": "text",
    "id": "vrUTR2qYQQUC"
   },
   "source": [
    "### Q7. Plot the data points"
   ]
  },
  {
   "cell_type": "code",
   "execution_count": 95,
   "metadata": {
    "colab": {},
    "colab_type": "code",
    "id": "HINLPCY2QWiS"
   },
   "outputs": [
    {
     "data": {
      "image/png": "[encoded data removed]",
      "text/plain": [
       "<Figure size 432x288 with 1 Axes>"
      ]
     },
     "metadata": {
      "needs_background": "light"
     },
     "output_type": "display_data"
    }
   ],
   "source": [
    "####\n",
    "import matplotlib.pyplot as plt\n",
    "plt.scatter(X, Y, 5, 'blue', 10)\n",
    "\n",
    "\n"
   ]
  },
  {
   "cell_type": "markdown",
   "metadata": {
    "colab_type": "text",
    "id": "9GrmEWW8QXar"
   },
   "source": [
    "### Q8. Plot a straight line that represents the relation between X & Y"
   ]
  },
  {
   "cell_type": "code",
   "execution_count": 97,
   "metadata": {
    "colab": {},
    "colab_type": "code",
    "id": "WtN2NDJ-QlgF"
   },
   "outputs": [
    {
     "data": {
      "text/plain": [
       "[<matplotlib.lines.Line2D at 0x120a04ad0>]"
      ]
     },
     "execution_count": 97,
     "metadata": {},
     "output_type": "execute_result"
    },
    {
     "data": {
      "image/png": "[encoded data removed]",
      "text/plain": [
       "<Figure size 432x288 with 1 Axes>"
      ]
     },
     "metadata": {
      "needs_background": "light"
     },
     "output_type": "display_data"
    }
   ],
   "source": [
    "####\n",
    "a = np.linspace(-5,5,100)\n",
    "plt.scatter(X, Y, 5, 'blue', 10)\n",
    "plt.plot(a, 3*a, '-r')"
   ]
  },
  {
   "cell_type": "markdown",
   "metadata": {
    "colab_type": "text",
    "id": "61vbfhCXkVwf"
   },
   "source": [
    "### Q9 Repeat Q4 - Q8 using data_2.csv"
   ]
  },
  {
   "cell_type": "code",
   "execution_count": 98,
   "metadata": {
    "colab": {},
    "colab_type": "code",
    "id": "hj2eWsI1ldTz"
   },
   "outputs": [],
   "source": [
    "data3=pd.read_csv('data_2.csv')"
   ]
  },
  {
   "cell_type": "code",
   "execution_count": 99,
   "metadata": {},
   "outputs": [
    {
     "data": {
      "text/plain": [
       "(9999, 2)"
      ]
     },
     "execution_count": 99,
     "metadata": {},
     "output_type": "execute_result"
    }
   ],
   "source": [
    "data3.shape"
   ]
  },
  {
   "cell_type": "code",
   "execution_count": 100,
   "metadata": {},
   "outputs": [],
   "source": [
    "data3=np.array(data3)\n",
    "X=data3[:,0]\n",
    "Y=data3[:,1]\n",
    "\n"
   ]
  },
  {
   "cell_type": "code",
   "execution_count": 101,
   "metadata": {},
   "outputs": [
    {
     "name": "stdout",
     "output_type": "stream",
     "text": [
      "[-6.28192854 -6.28067178 -6.27941502 ...  6.28067178  6.28192854\n",
      "  6.28318531]\n"
     ]
    }
   ],
   "source": [
    "print(X)"
   ]
  },
  {
   "cell_type": "code",
   "execution_count": 102,
   "metadata": {},
   "outputs": [
    {
     "name": "stdout",
     "output_type": "stream",
     "text": [
      "[ 0.08434662 -0.02869326  0.02144474 ...  0.05312648  0.00955617\n",
      "  0.06909911]\n"
     ]
    }
   ],
   "source": [
    "print(Y)"
   ]
  },
  {
   "cell_type": "code",
   "execution_count": 106,
   "metadata": {},
   "outputs": [
    {
     "data": {
      "text/plain": [
       "<matplotlib.collections.PathCollection at 0x1215d00d0>"
      ]
     },
     "execution_count": 106,
     "metadata": {},
     "output_type": "execute_result"
    },
    {
     "data": {
      "image/png": "[encoded data removed]",
      "text/plain": [
       "<Figure size 432x288 with 1 Axes>"
      ]
     },
     "metadata": {
      "needs_background": "light"
     },
     "output_type": "display_data"
    }
   ],
   "source": [
    "plt.scatter(X, Y, 5, 'blue', 10)"
   ]
  },
  {
   "cell_type": "code",
   "execution_count": 114,
   "metadata": {},
   "outputs": [
    {
     "data": {
      "text/plain": [
       "[<matplotlib.lines.Line2D at 0x121ce92d0>]"
      ]
     },
     "execution_count": 114,
     "metadata": {},
     "output_type": "execute_result"
    },
    {
     "data": {
      "image/png": "[encoded data removed]",
      "text/plain": [
       "<Figure size 432x288 with 1 Axes>"
      ]
     },
     "metadata": {
      "needs_background": "light"
     },
     "output_type": "display_data"
    }
   ],
   "source": [
    "b = np.linspace(-6,6,100)\n",
    "plt.scatter(X, Y, 5, 'blue', 10)\n",
    "plt.plot(b, 0*b, '-r')"
   ]
  },
  {
   "cell_type": "code",
   "execution_count": null,
   "metadata": {},
   "outputs": [],
   "source": []
  },
  {
   "cell_type": "code",
   "execution_count": null,
   "metadata": {},
   "outputs": [],
   "source": []
  }
 ],
 "metadata": {
  "colab": {
   "collapsed_sections": [],
   "name": "LAB1/HW.ipynb",
   "provenance": [],
   "toc_visible": true
  },
  "kernelspec": {
   "display_name": "Python 3",
   "language": "python",
   "name": "python3"
  },
  "language_info": {
   "codemirror_mode": {
    "name": "ipython",
    "version": 3
   },
   "file_extension": ".py",
   "mimetype": "text/x-python",
   "name": "python",
   "nbconvert_exporter": "python",
   "pygments_lexer": "ipython3",
   "version": "3.7.4"
  }
 },
 "nbformat": 4,
 "nbformat_minor": 1
}
