{
 "cells": [
  {
   "cell_type": "code",
   "execution_count": 1,
   "metadata": {},
   "outputs": [],
   "source": [
    "\n",
    "import numpy as np # linear algebra\n",
    "import pandas as pd\n",
    "from sklearn import preprocessing"
   ]
  },
  {
   "cell_type": "code",
   "execution_count": 2,
   "metadata": {},
   "outputs": [
    {
     "data": {
      "text/html": [
       "<div>\n",
       "<style scoped>\n",
       "    .dataframe tbody tr th:only-of-type {\n",
       "        vertical-align: middle;\n",
       "    }\n",
       "\n",
       "    .dataframe tbody tr th {\n",
       "        vertical-align: top;\n",
       "    }\n",
       "\n",
       "    .dataframe thead th {\n",
       "        text-align: right;\n",
       "    }\n",
       "</style>\n",
       "<table border=\"1\" class=\"dataframe\">\n",
       "  <thead>\n",
       "    <tr style=\"text-align: right;\">\n",
       "      <th></th>\n",
       "      <th>No</th>\n",
       "      <th>X1 transaction date</th>\n",
       "      <th>X2 house age</th>\n",
       "      <th>X3 distance to the nearest MRT station</th>\n",
       "      <th>X4 number of convenience stores</th>\n",
       "      <th>X5 latitude</th>\n",
       "      <th>X6 longitude</th>\n",
       "      <th>Y house price of unit area</th>\n",
       "    </tr>\n",
       "  </thead>\n",
       "  <tbody>\n",
       "    <tr>\n",
       "      <td>0</td>\n",
       "      <td>1</td>\n",
       "      <td>2012.917</td>\n",
       "      <td>32.0</td>\n",
       "      <td>84.87882</td>\n",
       "      <td>10</td>\n",
       "      <td>24.98298</td>\n",
       "      <td>121.54024</td>\n",
       "      <td>37.9</td>\n",
       "    </tr>\n",
       "    <tr>\n",
       "      <td>1</td>\n",
       "      <td>2</td>\n",
       "      <td>2012.917</td>\n",
       "      <td>19.5</td>\n",
       "      <td>306.59470</td>\n",
       "      <td>9</td>\n",
       "      <td>24.98034</td>\n",
       "      <td>121.53951</td>\n",
       "      <td>42.2</td>\n",
       "    </tr>\n",
       "    <tr>\n",
       "      <td>2</td>\n",
       "      <td>3</td>\n",
       "      <td>2013.583</td>\n",
       "      <td>13.3</td>\n",
       "      <td>561.98450</td>\n",
       "      <td>5</td>\n",
       "      <td>24.98746</td>\n",
       "      <td>121.54391</td>\n",
       "      <td>47.3</td>\n",
       "    </tr>\n",
       "    <tr>\n",
       "      <td>3</td>\n",
       "      <td>4</td>\n",
       "      <td>2013.500</td>\n",
       "      <td>13.3</td>\n",
       "      <td>561.98450</td>\n",
       "      <td>5</td>\n",
       "      <td>24.98746</td>\n",
       "      <td>121.54391</td>\n",
       "      <td>54.8</td>\n",
       "    </tr>\n",
       "    <tr>\n",
       "      <td>4</td>\n",
       "      <td>5</td>\n",
       "      <td>2012.833</td>\n",
       "      <td>5.0</td>\n",
       "      <td>390.56840</td>\n",
       "      <td>5</td>\n",
       "      <td>24.97937</td>\n",
       "      <td>121.54245</td>\n",
       "      <td>43.1</td>\n",
       "    </tr>\n",
       "    <tr>\n",
       "      <td>5</td>\n",
       "      <td>6</td>\n",
       "      <td>2012.667</td>\n",
       "      <td>7.1</td>\n",
       "      <td>2175.03000</td>\n",
       "      <td>3</td>\n",
       "      <td>24.96305</td>\n",
       "      <td>121.51254</td>\n",
       "      <td>32.1</td>\n",
       "    </tr>\n",
       "    <tr>\n",
       "      <td>6</td>\n",
       "      <td>7</td>\n",
       "      <td>2012.667</td>\n",
       "      <td>34.5</td>\n",
       "      <td>623.47310</td>\n",
       "      <td>7</td>\n",
       "      <td>24.97933</td>\n",
       "      <td>121.53642</td>\n",
       "      <td>40.3</td>\n",
       "    </tr>\n",
       "    <tr>\n",
       "      <td>7</td>\n",
       "      <td>8</td>\n",
       "      <td>2013.417</td>\n",
       "      <td>20.3</td>\n",
       "      <td>287.60250</td>\n",
       "      <td>6</td>\n",
       "      <td>24.98042</td>\n",
       "      <td>121.54228</td>\n",
       "      <td>46.7</td>\n",
       "    </tr>\n",
       "    <tr>\n",
       "      <td>8</td>\n",
       "      <td>9</td>\n",
       "      <td>2013.500</td>\n",
       "      <td>31.7</td>\n",
       "      <td>5512.03800</td>\n",
       "      <td>1</td>\n",
       "      <td>24.95095</td>\n",
       "      <td>121.48458</td>\n",
       "      <td>18.8</td>\n",
       "    </tr>\n",
       "    <tr>\n",
       "      <td>9</td>\n",
       "      <td>10</td>\n",
       "      <td>2013.417</td>\n",
       "      <td>17.9</td>\n",
       "      <td>1783.18000</td>\n",
       "      <td>3</td>\n",
       "      <td>24.96731</td>\n",
       "      <td>121.51486</td>\n",
       "      <td>22.1</td>\n",
       "    </tr>\n",
       "  </tbody>\n",
       "</table>\n",
       "</div>"
      ],
      "text/plain": [
       "   No  X1 transaction date  X2 house age  \\\n",
       "0   1             2012.917          32.0   \n",
       "1   2             2012.917          19.5   \n",
       "2   3             2013.583          13.3   \n",
       "3   4             2013.500          13.3   \n",
       "4   5             2012.833           5.0   \n",
       "5   6             2012.667           7.1   \n",
       "6   7             2012.667          34.5   \n",
       "7   8             2013.417          20.3   \n",
       "8   9             2013.500          31.7   \n",
       "9  10             2013.417          17.9   \n",
       "\n",
       "   X3 distance to the nearest MRT station  X4 number of convenience stores  \\\n",
       "0                                84.87882                               10   \n",
       "1                               306.59470                                9   \n",
       "2                               561.98450                                5   \n",
       "3                               561.98450                                5   \n",
       "4                               390.56840                                5   \n",
       "5                              2175.03000                                3   \n",
       "6                               623.47310                                7   \n",
       "7                               287.60250                                6   \n",
       "8                              5512.03800                                1   \n",
       "9                              1783.18000                                3   \n",
       "\n",
       "   X5 latitude  X6 longitude  Y house price of unit area  \n",
       "0     24.98298     121.54024                        37.9  \n",
       "1     24.98034     121.53951                        42.2  \n",
       "2     24.98746     121.54391                        47.3  \n",
       "3     24.98746     121.54391                        54.8  \n",
       "4     24.97937     121.54245                        43.1  \n",
       "5     24.96305     121.51254                        32.1  \n",
       "6     24.97933     121.53642                        40.3  \n",
       "7     24.98042     121.54228                        46.7  \n",
       "8     24.95095     121.48458                        18.8  \n",
       "9     24.96731     121.51486                        22.1  "
      ]
     },
     "execution_count": 2,
     "metadata": {},
     "output_type": "execute_result"
    }
   ],
   "source": [
    "#Read the dataset\n",
    "\n",
    "data_csv = pd.read_csv('./Real estate.csv', error_bad_lines=False)\n",
    "data_csv.head(10)"
   ]
  },
  {
   "cell_type": "markdown",
   "metadata": {},
   "source": [
    "# 1. Select a  data points and plot each feature with it's corresponding Y value."
   ]
  },
  {
   "cell_type": "code",
   "execution_count": 3,
   "metadata": {},
   "outputs": [
    {
     "data": {
      "text/plain": [
       "<Figure size 640x480 with 1 Axes>"
      ]
     },
     "metadata": {},
     "output_type": "display_data"
    }
   ],
   "source": [
    "import matplotlib.pyplot as plt\n",
    "\n",
    "data_csv=data_csv.drop(['No'], axis=1)\n",
    "\n",
    "x = data_csv['X2 house age']\n",
    "y = data_csv['Y house price of unit area']\n",
    "\n",
    "X = np.array(x)\n",
    "Y = np.array(y)\n",
    "\n",
    "plt.scatter(X,Y)\n",
    "plt.show()"
   ]
  },
  {
   "cell_type": "code",
   "execution_count": 4,
   "metadata": {},
   "outputs": [
    {
     "data": {
      "text/plain": [
       "(414, 7)"
      ]
     },
     "execution_count": 4,
     "metadata": {},
     "output_type": "execute_result"
    }
   ],
   "source": [
    "data_csv.shape\n"
   ]
  },
  {
   "cell_type": "code",
   "execution_count": 5,
   "metadata": {},
   "outputs": [
    {
     "data": {
      "image/png": "[encoded data removed]",
      "text/plain": [
       "<Figure size 432x288 with 1 Axes>"
      ]
     },
     "metadata": {
      "needs_background": "light"
     },
     "output_type": "display_data"
    }
   ],
   "source": [
    "x = data_csv['X1 transaction date']\n",
    "y = data_csv['Y house price of unit area']\n",
    "\n",
    "X = np.array(x)\n",
    "Y = np.array(y)\n",
    "\n",
    "plt.scatter(X,Y)\n",
    "plt.show()"
   ]
  },
  {
   "cell_type": "code",
   "execution_count": 6,
   "metadata": {},
   "outputs": [
    {
     "data": {
      "image/png": "[encoded data removed]",
      "text/plain": [
       "<Figure size 432x288 with 1 Axes>"
      ]
     },
     "metadata": {
      "needs_background": "light"
     },
     "output_type": "display_data"
    }
   ],
   "source": [
    "x = data_csv['X3 distance to the nearest MRT station']\n",
    "y = data_csv['Y house price of unit area']\n",
    "\n",
    "X = np.array(x)\n",
    "Y = np.array(y)\n",
    "\n",
    "plt.scatter(X,Y)\n",
    "plt.show()"
   ]
  },
  {
   "cell_type": "code",
   "execution_count": 7,
   "metadata": {},
   "outputs": [
    {
     "data": {
      "image/png": "[encoded data removed]",
      "text/plain": [
       "<Figure size 432x288 with 1 Axes>"
      ]
     },
     "metadata": {
      "needs_background": "light"
     },
     "output_type": "display_data"
    }
   ],
   "source": [
    "x = data_csv['X4 number of convenience stores']\n",
    "y = data_csv['Y house price of unit area']\n",
    "\n",
    "X = np.array(x)\n",
    "Y = np.array(y)\n",
    "\n",
    "plt.scatter(X,Y)\n",
    "plt.show()"
   ]
  },
  {
   "cell_type": "code",
   "execution_count": 8,
   "metadata": {},
   "outputs": [
    {
     "data": {
      "image/png": "[encoded data removed]",
      "text/plain": [
       "<Figure size 432x288 with 1 Axes>"
      ]
     },
     "metadata": {
      "needs_background": "light"
     },
     "output_type": "display_data"
    }
   ],
   "source": [
    "x = data_csv['X5 latitude']\n",
    "y = data_csv['Y house price of unit area']\n",
    "\n",
    "X = np.array(x)\n",
    "Y = np.array(y)\n",
    "\n",
    "plt.scatter(X,Y)\n",
    "plt.show()"
   ]
  },
  {
   "cell_type": "code",
   "execution_count": 9,
   "metadata": {},
   "outputs": [
    {
     "data": {
      "image/png": "[encoded data removed]",
      "text/plain": [
       "<Figure size 432x288 with 1 Axes>"
      ]
     },
     "metadata": {
      "needs_background": "light"
     },
     "output_type": "display_data"
    }
   ],
   "source": [
    "x = data_csv['X6 longitude']\n",
    "y = data_csv['Y house price of unit area']\n",
    "\n",
    "X = np.array(x)\n",
    "Y = np.array(y)\n",
    "\n",
    "plt.scatter(X,Y)\n",
    "plt.show()"
   ]
  },
  {
   "cell_type": "code",
   "execution_count": null,
   "metadata": {},
   "outputs": [],
   "source": [
    "\n",
    "\n"
   ]
  },
  {
   "cell_type": "markdown",
   "metadata": {},
   "source": [
    "# 2. Split dataset into train and test."
   ]
  },
  {
   "cell_type": "code",
   "execution_count": 10,
   "metadata": {},
   "outputs": [],
   "source": [
    "from sklearn.model_selection import train_test_split\n",
    "\n",
    "train, test = train_test_split(data_csv, test_size=0.3)"
   ]
  },
  {
   "cell_type": "markdown",
   "metadata": {},
   "source": [
    "# 3. Perform linear regression using GD and SGD."
   ]
  },
  {
   "cell_type": "code",
   "execution_count": 11,
   "metadata": {},
   "outputs": [],
   "source": [
    "#Create X and Y arrays for training data\n",
    "X_train = train.drop(\"Y house price of unit area\", axis=1)\n",
    "X_train=preprocessing.normalize(X_train);\n",
    "y_train = train[\"Y house price of unit area\"]\n",
    "\n",
    "\n",
    "\n",
    "\n",
    "\n"
   ]
  },
  {
   "cell_type": "code",
   "execution_count": 12,
   "metadata": {},
   "outputs": [
    {
     "data": {
      "text/plain": [
       "((125, 6), (125,))"
      ]
     },
     "execution_count": 12,
     "metadata": {},
     "output_type": "execute_result"
    }
   ],
   "source": [
    "X_test = test.drop(\"Y house price of unit area\", axis=1)\n",
    "X_test=preprocessing.normalize(X_test);\n",
    "y_test = test[\"Y house price of unit area\"]\n",
    "y_test=np.array(y_test);\n",
    "\n",
    "X_test.shape, y_test.shape"
   ]
  },
  {
   "cell_type": "code",
   "execution_count": 13,
   "metadata": {},
   "outputs": [],
   "source": [
    "def F(w,X_array,y_array):\n",
    "    value = 0\n",
    "#     X_local = data.drop(\"Y house price of unit area\", axis=1)\n",
    "#     y_local = data[\"Y house price of unit area\"]\n",
    "   \n",
    "    \n",
    "#     X_array=preprocessing.normalize(X_local);\n",
    "#     y_array=preprocessing.normalize(y_local);\n",
    "    \n",
    "# #     X_array=np.array(X_local);\n",
    "    y_array=np.array(y_array);\n",
    "    w=w.reshape(6,1)\n",
    " \n",
    "  \n",
    "    for i in range(len(X_array)):\n",
    "        value = value + (X_array[i].dot(w)-y_array[i])**2\n",
    "    return value/len(X_array)"
   ]
  },
  {
   "cell_type": "code",
   "execution_count": 14,
   "metadata": {},
   "outputs": [
    {
     "data": {
      "text/plain": [
       "array([1645.44532872])"
      ]
     },
     "execution_count": 14,
     "metadata": {},
     "output_type": "execute_result"
    }
   ],
   "source": [
    " w = np.zeros(len(data_csv.columns)-1)\n",
    "F(w,X_train, y_train)"
   ]
  },
  {
   "cell_type": "code",
   "execution_count": 15,
   "metadata": {},
   "outputs": [],
   "source": [
    "def dF(w,X_array,y_array):\n",
    "    value = 0\n",
    "#     X_local = data.drop(\"Y house price of unit area\", axis=1)\n",
    "#     y_local = data[\"Y house price of unit area\"]\n",
    "   \n",
    "    w=w.reshape(6,1);\n",
    "#     X_array=preprocessing.normalize(X_local);\n",
    "#     y_array=preprocessing.normalize(y_local);\n",
    "# #     X_array=np.array(X_local);\n",
    "    y_array=np.array(y_array);\n",
    "   \n",
    "    for i in range(len(X_array)):\n",
    "        value = value + 2*(X_array[i].dot(w)-y_array[i])*X_array[i]\n",
    "    return value/len(X_array)    "
   ]
  },
  {
   "cell_type": "code",
   "execution_count": 16,
   "metadata": {},
   "outputs": [
    {
     "name": "stdout",
     "output_type": "stream",
     "text": [
      "[-69.89973132  -0.58380757 -21.9596189   -0.16811574  -0.86706478\n",
      "  -4.21995792]\n"
     ]
    }
   ],
   "source": [
    "w = np.zeros(len(data_csv.columns)-1)\n",
    "print(dF(w,X_train, y_train))"
   ]
  },
  {
   "cell_type": "code",
   "execution_count": 17,
   "metadata": {},
   "outputs": [],
   "source": [
    "def sF(w,i,X_array,y_array):\n",
    "   \n",
    "    \n",
    "#     X_local = data.drop(\"Y house price of unit area\", axis=1)\n",
    "#     y_local = data[\"Y house price of unit area\"]\n",
    "    \n",
    "#     X_array=preprocessing.normalize(X_local);\n",
    "#     y_array=preprocessing.normalize(y_local);\n",
    "#     X_array=np.array(X_local);\n",
    "    y_array=np.array(y_array);\n",
    "    \n",
    "    \n",
    "    value = (X_array[i].dot(w)-y_array[i])**2\n",
    "    return value"
   ]
  },
  {
   "cell_type": "code",
   "execution_count": 18,
   "metadata": {},
   "outputs": [],
   "source": [
    "\n",
    "def sdF(w,i,X_array,y_array):\n",
    "#     X_local = data.drop(\"Y house price of unit area\", axis=1)\n",
    "#     y_local = data[\"Y house price of unit area\"]\n",
    "#     X_array=preprocessing.normalize(X_local);\n",
    "#     y_array=preprocessing.normalize(y_local);\n",
    "    \n",
    "#     X_array=np.array(X_local);\n",
    "    y_array=np.array(y_array);\n",
    "    value = 2*(X_array[i].dot(w)-y_array[i])*X_array[i];\n",
    "    return value"
   ]
  },
  {
   "cell_type": "code",
   "execution_count": 19,
   "metadata": {},
   "outputs": [],
   "source": [
    "def gradientD():\n",
    "    w = np.zeros(len(data_csv.columns)-1)\n",
    "    l = 1\n",
    "    for i in range(1000):\n",
    "        f = F(w,X_train, y_train)\n",
    "        g = dF(w,X_train, y_train)\n",
    "        w = w - l * g\n",
    "        #print(\"iteration : {},w : {}, f : {}, g :{}\".format(i,w,f,g))\n",
    "    return w.reshape(6,1);    \n",
    "        "
   ]
  },
  {
   "cell_type": "code",
   "execution_count": 20,
   "metadata": {},
   "outputs": [
    {
     "data": {
      "text/plain": [
       "array([[ 46.80591914],\n",
       "       [-37.30259496],\n",
       "       [ -8.55838504],\n",
       "       [  5.89362862],\n",
       "       [  0.59994266],\n",
       "       [  2.79439739]])"
      ]
     },
     "execution_count": 20,
     "metadata": {},
     "output_type": "execute_result"
    }
   ],
   "source": [
    "gradientD()"
   ]
  },
  {
   "cell_type": "code",
   "execution_count": 21,
   "metadata": {},
   "outputs": [],
   "source": [
    "def stochasticGradientD():\n",
    "    w = np.zeros(len(data_csv.columns)-1)\n",
    "    l = 0.1\n",
    "    print(len(train));\n",
    "    for i in range(1000):\n",
    "        for j in range(len(train)):\n",
    "            f = sF(w,j,X_train, y_train)\n",
    "            g = sdF(w,j,X_train, y_train)\n",
    "            w = w - l * g\n",
    "            #print(\"iteration : {},w : {}, f : {}, g :{}\".format(i,w,f,g))\n",
    "        return w.reshape(6,1);    "
   ]
  },
  {
   "cell_type": "code",
   "execution_count": 22,
   "metadata": {},
   "outputs": [
    {
     "name": "stdout",
     "output_type": "stream",
     "text": [
      "289\n"
     ]
    },
    {
     "data": {
      "text/plain": [
       "array([[48.14466705],\n",
       "       [-0.69108887],\n",
       "       [-8.1551875 ],\n",
       "       [ 0.33185346],\n",
       "       [ 0.59791622],\n",
       "       [ 2.90595114]])"
      ]
     },
     "execution_count": 22,
     "metadata": {},
     "output_type": "execute_result"
    }
   ],
   "source": [
    "stochasticGradientD()"
   ]
  },
  {
   "cell_type": "markdown",
   "metadata": {},
   "source": [
    "# Prediction "
   ]
  },
  {
   "cell_type": "code",
   "execution_count": 23,
   "metadata": {},
   "outputs": [
    {
     "name": "stdout",
     "output_type": "stream",
     "text": [
      "<class 'numpy.ndarray'>\n",
      "(125, 1)\n",
      "<class 'numpy.ndarray'>\n",
      "(125, 1)\n",
      "        y_pred  y_test\n",
      "0    44.858964    46.7\n",
      "1    46.255673    47.0\n",
      "2    45.618417    53.3\n",
      "3    25.823684    31.3\n",
      "4    31.792720    28.9\n",
      "..         ...     ...\n",
      "120  46.783113    47.7\n",
      "121  38.336179    37.7\n",
      "122  44.958071    53.3\n",
      "123  45.104184    51.6\n",
      "124  12.987112    15.6\n",
      "\n",
      "[125 rows x 2 columns]\n"
     ]
    }
   ],
   "source": [
    "y_pred=X_test.dot(gradientD())\n",
    "print(type(y_pred))\n",
    "print(y_pred.shape)\n",
    "print(type(y_test))\n",
    "y_test=y_test.reshape(125,1)\n",
    "print(y_test.shape)\n",
    "\n",
    "gradient_dataset = pd.DataFrame({'y_pred':y_pred[:, 0] ,'y_test': y_test[:, 0]})\n",
    "print(gradient_dataset)\n"
   ]
  },
  {
   "cell_type": "code",
   "execution_count": 24,
   "metadata": {},
   "outputs": [
    {
     "name": "stdout",
     "output_type": "stream",
     "text": [
      "289\n",
      "        y_pred  y_test\n",
      "0    46.593610    46.7\n",
      "1    47.745334    47.0\n",
      "2    47.518537    53.3\n",
      "3    27.082308    31.3\n",
      "4    33.168382    28.9\n",
      "..         ...     ...\n",
      "120  48.138525    47.7\n",
      "121  39.988367    37.7\n",
      "122  46.584255    53.3\n",
      "123  46.659309    51.6\n",
      "124  14.054442    15.6\n",
      "\n",
      "[125 rows x 2 columns]\n"
     ]
    }
   ],
   "source": [
    "y_pred2=X_test.dot(stochasticGradientD())\n",
    "\n",
    "stc_gradient_dataset = pd.DataFrame({'y_pred':y_pred2[:, 0] ,'y_test': y_test[:, 0]})\n",
    "print(stc_gradient_dataset)"
   ]
  },
  {
   "cell_type": "markdown",
   "metadata": {},
   "source": [
    "# Comments"
   ]
  },
  {
   "cell_type": "markdown",
   "metadata": {},
   "source": [
    "1. According to the weights of both Gradient Descent and Stochastic gradient Descent , transaction date seems the most important variable in predicting the price.\n",
    "2. The feature 'X3 distance to the nearest MRT station' seems to be effect only in the lower pricing range houses which are less than 3000.\n",
    "3. The feature 'X2 house age' & 'X3 distance to the nearest MRT station' seems to be negative effect on the prices.\n",
    "4. The features 'X4 number of convenience stores' &\t'X5 latitude' has almost negligible contrubution in prediction the house prices."
   ]
  },
  {
   "cell_type": "code",
   "execution_count": null,
   "metadata": {},
   "outputs": [],
   "source": []
  }
 ],
 "metadata": {
  "kernelspec": {
   "display_name": "macbook",
   "language": "python",
   "name": "macbook"
  },
  "language_info": {
   "codemirror_mode": {
    "name": "ipython",
    "version": 3
   },
   "file_extension": ".py",
   "mimetype": "text/x-python",
   "name": "python",
   "nbconvert_exporter": "python",
   "pygments_lexer": "ipython3",
   "version": "3.7.4"
  }
 },
 "nbformat": 4,
 "nbformat_minor": 2
}
