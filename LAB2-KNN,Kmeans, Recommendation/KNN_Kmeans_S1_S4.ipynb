{
 "cells": [
  {
   "cell_type": "code",
   "execution_count": 1,
   "metadata": {},
   "outputs": [],
   "source": [
    "import numpy as np;\n",
    "import pandas as pd;\n",
    "import operator;\n",
    "from sklearn.model_selection import train_test_split;\n",
    "from sklearn.neighbors import KNeighborsClassifier \n",
    "from sklearn.metrics import confusion_matrix "
   ]
  },
  {
   "cell_type": "markdown",
   "metadata": {},
   "source": [
    "# Dataset_1 S1"
   ]
  },
  {
   "cell_type": "code",
   "execution_count": 2,
   "metadata": {},
   "outputs": [],
   "source": [
    "#Loading Training data\n",
    "train = pd.read_csv('./Part1_data/dataset_1/S1.txt', names=['cordinates'],error_bad_lines=False);\n",
    "new = train[\"cordinates\"].str.split(\"    \", n = 2, expand = True) \n",
    "train['x']=new[1]\n",
    "train['y']=new[2]\n",
    "train=train.drop(columns=['cordinates'])"
   ]
  },
  {
   "cell_type": "code",
   "execution_count": 3,
   "metadata": {},
   "outputs": [
    {
     "data": {
      "text/html": [
       "<div>\n",
       "<style scoped>\n",
       "    .dataframe tbody tr th:only-of-type {\n",
       "        vertical-align: middle;\n",
       "    }\n",
       "\n",
       "    .dataframe tbody tr th {\n",
       "        vertical-align: top;\n",
       "    }\n",
       "\n",
       "    .dataframe thead th {\n",
       "        text-align: right;\n",
       "    }\n",
       "</style>\n",
       "<table border=\"1\" class=\"dataframe\">\n",
       "  <thead>\n",
       "    <tr style=\"text-align: right;\">\n",
       "      <th></th>\n",
       "      <th>x</th>\n",
       "      <th>y</th>\n",
       "    </tr>\n",
       "  </thead>\n",
       "  <tbody>\n",
       "    <tr>\n",
       "      <td>0</td>\n",
       "      <td>664159</td>\n",
       "      <td>550946</td>\n",
       "    </tr>\n",
       "    <tr>\n",
       "      <td>1</td>\n",
       "      <td>665845</td>\n",
       "      <td>557965</td>\n",
       "    </tr>\n",
       "    <tr>\n",
       "      <td>2</td>\n",
       "      <td>597173</td>\n",
       "      <td>575538</td>\n",
       "    </tr>\n",
       "    <tr>\n",
       "      <td>3</td>\n",
       "      <td>618600</td>\n",
       "      <td>551446</td>\n",
       "    </tr>\n",
       "    <tr>\n",
       "      <td>4</td>\n",
       "      <td>635690</td>\n",
       "      <td>608046</td>\n",
       "    </tr>\n",
       "    <tr>\n",
       "      <td>...</td>\n",
       "      <td>...</td>\n",
       "      <td>...</td>\n",
       "    </tr>\n",
       "    <tr>\n",
       "      <td>4995</td>\n",
       "      <td>665426</td>\n",
       "      <td>853940</td>\n",
       "    </tr>\n",
       "    <tr>\n",
       "      <td>4996</td>\n",
       "      <td>691827</td>\n",
       "      <td>863963</td>\n",
       "    </tr>\n",
       "    <tr>\n",
       "      <td>4997</td>\n",
       "      <td>650661</td>\n",
       "      <td>861267</td>\n",
       "    </tr>\n",
       "    <tr>\n",
       "      <td>4998</td>\n",
       "      <td>599647</td>\n",
       "      <td>858702</td>\n",
       "    </tr>\n",
       "    <tr>\n",
       "      <td>4999</td>\n",
       "      <td>684091</td>\n",
       "      <td>842566</td>\n",
       "    </tr>\n",
       "  </tbody>\n",
       "</table>\n",
       "<p>5000 rows × 2 columns</p>\n",
       "</div>"
      ],
      "text/plain": [
       "           x       y\n",
       "0     664159  550946\n",
       "1     665845  557965\n",
       "2     597173  575538\n",
       "3     618600  551446\n",
       "4     635690  608046\n",
       "...      ...     ...\n",
       "4995  665426  853940\n",
       "4996  691827  863963\n",
       "4997  650661  861267\n",
       "4998  599647  858702\n",
       "4999  684091  842566\n",
       "\n",
       "[5000 rows x 2 columns]"
      ]
     },
     "execution_count": 3,
     "metadata": {},
     "output_type": "execute_result"
    }
   ],
   "source": [
    "# Loading Ground Truth Values\n",
    "ground_truth_old= pd.read_csv('./Part1_data/dataset_1/s-originals/s1-label.pa',error_bad_lines=False);\n",
    "ground_truth=ground_truth_old[4:];\n",
    "ground_truth.columns=['result']\n",
    "\n",
    "ground_truth.reset_index(inplace = True) \n",
    "data=ground_truth['result']\n",
    "\n",
    "result = pd.DataFrame(data=ground_truth.result, columns=['result'])\n",
    "data=pd.concat([train,result],axis=1);\n",
    "new_data=data.drop('result',axis=1)\n",
    "new_data"
   ]
  },
  {
   "cell_type": "code",
   "execution_count": 4,
   "metadata": {},
   "outputs": [
    {
     "name": "stderr",
     "output_type": "stream",
     "text": [
      "/Users/shalabhneema/opt/anaconda3/lib/python3.7/site-packages/ipykernel_launcher.py:1: SettingWithCopyWarning: \n",
      "A value is trying to be set on a copy of a slice from a DataFrame.\n",
      "Try using .loc[row_indexer,col_indexer] = value instead\n",
      "\n",
      "See the caveats in the documentation: http://pandas.pydata.org/pandas-docs/stable/user_guide/indexing.html#returning-a-view-versus-a-copy\n",
      "  \"\"\"Entry point for launching an IPython kernel.\n"
     ]
    }
   ],
   "source": [
    "ground_truth['result']=ground_truth['result'].astype(int)\n",
    "train['ground_truth']=ground_truth['result']"
   ]
  },
  {
   "cell_type": "code",
   "execution_count": 5,
   "metadata": {},
   "outputs": [
    {
     "data": {
      "text/plain": [
       "<matplotlib.collections.PathCollection at 0x1a1fb60b10>"
      ]
     },
     "execution_count": 5,
     "metadata": {},
     "output_type": "execute_result"
    }
   ],
   "source": [
    "# Plottting the dataset in diffrent colors\n",
    "from matplotlib import pyplot as plt\n",
    "fig, ax = plt.subplots()\n",
    "plt.figure(figsize=(10,10))\n",
    "data['result']=data['result'].astype(int)\n",
    "data['x']=data['x'].astype(int)\n",
    "data['y']=data['y'].astype(int)\n",
    "\n",
    "ax.scatter(data['x'], data['y'], s=8, c=data['result'], cmap='rainbow')    "
   ]
  },
  {
   "cell_type": "code",
   "execution_count": 6,
   "metadata": {},
   "outputs": [],
   "source": [
    "#Implementing KNN\n",
    "def convertToArray(data):\n",
    "    res = []\n",
    "    for index in range(len(data)):\n",
    "        temp = []\n",
    "        for j in range(len(data.iloc[index])):\n",
    "            try:\n",
    "                temp.append(int(data.iloc[index][j]))\n",
    "            except:\n",
    "                temp.append(data.iloc[index][j])\n",
    "        res.append(temp)\n",
    "    return res"
   ]
  },
  {
   "cell_type": "code",
   "execution_count": 7,
   "metadata": {},
   "outputs": [],
   "source": [
    "#  Calculating Euclidean Distance\n",
    "def euclidean_distance(x1, x2, length):\n",
    "    distance = 0\n",
    "    for x in range(length):\n",
    "        distance += np.square(x1[x] - x2[x])\n",
    "    return np.sqrt(distance)\n",
    "\n",
    "#  K-Nearest Neighbour model\n",
    "def knn_main(training_data, testquery, k):\n",
    "    distances = {}\n",
    "    length = len(testquery)\n",
    "    for x in range(len(training_data)):\n",
    "        dist = euclidean_distance(testquery, training_data[x], length)\n",
    "        distances[x] = dist\n",
    "    sortdist = sorted(distances.items(), key=operator.itemgetter(1))\n",
    "    neighbors = []\n",
    "    for x in range(k):\n",
    "        neighbors.append(sortdist[x][0])\n",
    "    Count = {}  \n",
    "    for x in range(len(neighbors)):\n",
    "        response = training_data[neighbors[x]][-1]\n",
    "        if response in Count:\n",
    "            Count[response] += 1\n",
    "        else:\n",
    "            Count[response] = 1\n",
    "    best_values = sorted(Count.items(), key=operator.itemgetter(1), reverse=True)\n",
    "    return (best_values[0][0])\n"
   ]
  },
  {
   "cell_type": "code",
   "execution_count": 8,
   "metadata": {},
   "outputs": [],
   "source": [
    "# Calculate accuracy percentage\n",
    "def accuracy_measure(truth, pred):\n",
    "    sum = 0\n",
    "    for i in range(len(truth)):\n",
    "        if truth[i] == pred[i]:\n",
    "            sum += 1\n",
    "    return sum / float(len(truth)) * 100.0\n",
    "\n",
    "def evaluate(train_set,test_set, algorithm, k):\n",
    "    new_train_set=convertToArray(train_set)\n",
    "    new_test_set=convertToArray(test_set)  \n",
    "    predicted_results = []\n",
    "    for index in range(len(new_test_set)):\n",
    "        predicted_results.append(algorithm(new_train_set, new_test_set[index], k))\n",
    "    actual = [row[-1] for row in new_test_set]\n",
    "    accuracy = accuracy_measure(actual, predicted_results)\n",
    "    return (accuracy)"
   ]
  },
  {
   "cell_type": "code",
   "execution_count": 9,
   "metadata": {},
   "outputs": [],
   "source": [
    "#Splitting the dataset into train and test dataset\n",
    "X_train, X_test, y_train, y_test = train_test_split(train, ground_truth['result'], random_state = 0) \n",
    "train_set=pd.concat([X_train,y_train],axis=1)\n",
    "test_set=pd.concat([X_test,y_test],axis=1)"
   ]
  },
  {
   "cell_type": "code",
   "execution_count": 10,
   "metadata": {},
   "outputs": [
    {
     "name": "stdout",
     "output_type": "stream",
     "text": [
      "Accuracy using numpy -- 99.28\n"
     ]
    }
   ],
   "source": [
    "# Calculating Accuracy of the model\n",
    "a=evaluate(train_set, test_set,knn_main, 5);\n",
    "print('Accuracy using numpy --',a)"
   ]
  },
  {
   "cell_type": "code",
   "execution_count": 11,
   "metadata": {},
   "outputs": [
    {
     "name": "stdout",
     "output_type": "stream",
     "text": [
      "Accuracy using sklearn -- 99.28\n"
     ]
    }
   ],
   "source": [
    "# KNN implementing using sklearn\n",
    "knn = KNeighborsClassifier(n_neighbors=5)\n",
    "knn.fit(X_train,y_train)\n",
    "knn_predictions = knn.predict(X_test)  \n",
    "\n",
    "# accuracy on X_test \n",
    "accuracy = knn.score(X_test, y_test) \n",
    "print('Accuracy using sklearn --',accuracy*100)"
   ]
  },
  {
   "cell_type": "code",
   "execution_count": 12,
   "metadata": {},
   "outputs": [
    {
     "data": {
      "text/plain": [
       "Text(0.5, 0, 'x')"
      ]
     },
     "execution_count": 12,
     "metadata": {},
     "output_type": "execute_result"
    },
    {
     "data": {
      "image/png": "[encoded data removed]",
      "text/plain": [
       "<Figure size 432x288 with 1 Axes>"
      ]
     },
     "metadata": {
      "needs_background": "light"
     },
     "output_type": "display_data"
    },
    {
     "data": {
      "text/plain": [
       "<Figure size 720x720 with 0 Axes>"
      ]
     },
     "metadata": {},
     "output_type": "display_data"
    }
   ],
   "source": [
    "# Plotting the predicted dataset \n",
    "new_data=pd.concat([X_test,y_test],axis=1)\n",
    "new_data=pd.concat([new_data,pd.concat([X_train,y_train],axis=1)])\n",
    "new_data['x']=new_data['x'].astype(float)\n",
    "new_data['y']=new_data['y'].astype(float)\n",
    "fig, ax = plt.subplots()\n",
    "plt.figure(figsize=(10,10))\n",
    "ax.scatter(new_data['x'], new_data['y'], s=8, c=new_data['result'], cmap='rainbow')    \n",
    "ax.set_ylabel('y')\n",
    "ax.set_xlabel('x')"
   ]
  },
  {
   "cell_type": "code",
   "execution_count": 13,
   "metadata": {},
   "outputs": [
    {
     "name": "stdout",
     "output_type": "stream",
     "text": [
      "[[ 72   0   0   0   0   0   0   0   0   0   0   0   0   0   0]\n",
      " [  0  80   0   0   0   0   0   0   0   0   0   0   0   1   0]\n",
      " [  0   0  76   0   0   0   0   0   0   0   0   0   0   0   0]\n",
      " [  0   0   0  64   0   0   0   0   0   0   0   0   0   0   1]\n",
      " [  0   0   0   0  93   0   0   0   0   0   0   0   0   0   0]\n",
      " [  0   0   0   0   0  68   0   0   0   0   0   0   0   0   0]\n",
      " [  0   0   0   0   0   0  83   0   0   0   0   0   0   0   0]\n",
      " [  1   0   0   0   0   0   0  71   0   0   0   0   1   0   0]\n",
      " [  0   0   0   0   0   0   0   0  99   0   0   0   0   0   0]\n",
      " [  0   0   0   0   0   0   0   0   0  81   0   2   0   0   0]\n",
      " [  0   0   0   0   0   1   0   0   0   0  82   0   0   0   0]\n",
      " [  0   0   0   0   0   0   0   0   0   1   0  92   0   0   0]\n",
      " [  0   0   0   0   0   0   0   0   0   0   0   0 101   0   0]\n",
      " [  0   0   0   1   0   0   0   0   0   0   0   0   0  94   0]\n",
      " [  0   0   0   0   0   0   0   0   0   0   0   0   0   0  85]]\n"
     ]
    }
   ],
   "source": [
    "# Confusion Matrix\n",
    "cm = confusion_matrix(y_test, knn_predictions) \n",
    "print(cm)"
   ]
  },
  {
   "cell_type": "markdown",
   "metadata": {},
   "source": [
    "Accurcay of both the algorithms implented using numpy as well as sklearn gives the same accuracy that is 99.28 which is quite good. The clusters are evenly divided with no overlapping of boundaries. The graph observed before and after the prediction is quite similar as our model is able to correctly predict most of the values."
   ]
  },
  {
   "cell_type": "code",
   "execution_count": null,
   "metadata": {},
   "outputs": [
    {
     "name": "stderr",
     "output_type": "stream",
     "text": [
      "/Users/shalabhneema/opt/anaconda3/lib/python3.7/site-packages/numpy/core/fromnumeric.py:3257: RuntimeWarning: Mean of empty slice.\n",
      "  out=out, **kwargs)\n",
      "/Users/shalabhneema/opt/anaconda3/lib/python3.7/site-packages/numpy/core/_methods.py:161: RuntimeWarning: invalid value encountered in double_scalars\n",
      "  ret = ret.dtype.type(ret / rcount)\n"
     ]
    }
   ],
   "source": [
    "# Implementing K-Means\n",
    "feature_1=train['x'].astype(np.float);\n",
    "feature_2=train['y'].astype(np.float);\n",
    "features = np.array(list(zip(feature_1, feature_2)))\n",
    "\n",
    "# Calculating  Distance  between two points\n",
    "def dist(a, b, ax=1):\n",
    "    return np.linalg.norm(a - b, axis=ax)\n",
    "\n",
    "# Number of clusters\n",
    "k = 15\n",
    "\n",
    "# X and Y coordinates of random centroids\n",
    "C_x = np.random.randint(0, np.max(features), size=k)\n",
    "C_y = np.random.randint(0, np.max(features), size=k)\n",
    "C = np.array(list(zip(C_x, C_y)), dtype=np.float32)\n",
    "             \n",
    "#Implementing K means using numpy\n",
    "from copy import deepcopy\n",
    "C_old = np.zeros(C.shape)\n",
    "clusters = np.zeros(len(features))\n",
    "\n",
    "# Calculating Distance between new centroids and old centroids\n",
    "error = dist(C, C_old, None)\n",
    "\n",
    "# Minimizing till the error is zero\n",
    "while error != 0:\n",
    "   \n",
    "    for i in range(len(features)):\n",
    "        distances = dist(features[i], C)\n",
    "        cluster = np.argmin(distances)\n",
    "        clusters[i] = cluster\n",
    "    \n",
    "    C_old = deepcopy(C)\n",
    "    \n",
    "    # Calculating the new centroids by taking the average value\n",
    "    for i in range(k):\n",
    "        points = [features[j] for j in range(len(features)) if clusters[j] == i]\n",
    "        C[i] = np.mean(points, axis=0)\n",
    "    error = dist(C, C_old, None)\n",
    "\n",
    "#Centroids              \n",
    "C             "
   ]
  },
  {
   "cell_type": "code",
   "execution_count": null,
   "metadata": {},
   "outputs": [],
   "source": [
    "#Plotting graph\n",
    "colors = ['m', 'g','k','lightgrey','brown','r','coral','chocolate','darkorange','y','c','b','m','pink','slategrey']\n",
    "fig, ax = plt.subplots()\n",
    "for i in range(k):\n",
    "        points = np.array([features[j] for j in range(len(features)) if clusters[j] == i])\n",
    "        ax.scatter(points[:, 0], points[:, 1], s=7, c=colors[i]) \n",
    "ax.scatter(C[:, 0], C[:, 1], marker='*', s=200, c='#050505')\n"
   ]
  },
  {
   "cell_type": "code",
   "execution_count": null,
   "metadata": {},
   "outputs": [],
   "source": [
    "#Implementing using sklearn\n",
    "from sklearn.cluster import KMeans\n",
    "kmeans = KMeans(n_clusters=15)\n",
    "kmeans = kmeans.fit(features)\n",
    "labels = kmeans.predict(features)\n",
    "\n",
    "centroids_using_sklearn = kmeans.cluster_centers_\n",
    "print(centroids_using_sklearn)"
   ]
  },
  {
   "cell_type": "code",
   "execution_count": null,
   "metadata": {},
   "outputs": [],
   "source": [
    "#Plotting the graph with Centroid of K-Means\n",
    "fig, ax = plt.subplots()\n",
    "ax.scatter(features[:, 0], features[:, 1], s=7, c=labels, cmap='rainbow')        \n",
    "ax.scatter(centroids_using_sklearn[:, 0], centroids_using_sklearn[:, 1], marker='*', s=200, c='#050505')"
   ]
  },
  {
   "cell_type": "code",
   "execution_count": null,
   "metadata": {},
   "outputs": [],
   "source": [
    "#V_measure Score\n",
    "from sklearn.metrics import v_measure_score \n",
    "v_measure_score(new_data['result'], labels)"
   ]
  },
  {
   "cell_type": "markdown",
   "metadata": {},
   "source": [
    "By visualizing the two graphs we can say that  sklearn correcltly identified the clusters and their respective centroids while the numpy algorithm has some misclassfication of centriods.It is able to find out 12 clusters correcltly. In remaining three,it placed two centroid in the same cluster and the last centroid in between 2 clusters. \n",
    "We can improve the performance by taking the initial clusters to be random rather than initilizing with zero."
   ]
  },
  {
   "cell_type": "markdown",
   "metadata": {},
   "source": [
    "# Dataset_1 S2"
   ]
  },
  {
   "cell_type": "code",
   "execution_count": null,
   "metadata": {},
   "outputs": [],
   "source": [
    "#Loading Training Data\n",
    "train = pd.read_csv('./Part1_data/dataset_1/S2.txt', names=['cordinates'],error_bad_lines=False);\n",
    "new = train[\"cordinates\"].str.split(\"    \", n = 2, expand = True) \n",
    "train['x']=new[1]\n",
    "train['y']=new[2]\n",
    "train=train.drop(columns=['cordinates'])"
   ]
  },
  {
   "cell_type": "code",
   "execution_count": null,
   "metadata": {},
   "outputs": [],
   "source": [
    "# Loading Ground Truth Values\n",
    "ground_truth_old= pd.read_csv('./Part1_data/dataset_1/s-originals/s2-label.pa',error_bad_lines=False);\n",
    "ground_truth=ground_truth_old[4:];\n",
    "ground_truth.columns=['result']\n",
    "\n",
    "ground_truth.reset_index(inplace = True) \n",
    "data=ground_truth['result']\n",
    "\n",
    "result = pd.DataFrame(data=ground_truth.result, columns=['result'])\n",
    "data=pd.concat([train,result],axis=1);\n",
    "new_data=data.drop('result',axis=1)\n",
    "new_data"
   ]
  },
  {
   "cell_type": "code",
   "execution_count": null,
   "metadata": {},
   "outputs": [],
   "source": [
    "ground_truth['result']=ground_truth['result'].astype(int)\n",
    "train['ground_truth']=ground_truth['result']"
   ]
  },
  {
   "cell_type": "code",
   "execution_count": null,
   "metadata": {},
   "outputs": [],
   "source": [
    "#Plotting the data \n",
    "fig, ax = plt.subplots()\n",
    "plt.figure(figsize=(10,10))\n",
    "data['result']=data['result'].astype(int)\n",
    "data['x']=data['x'].astype(int)\n",
    "data['y']=data['y'].astype(int)\n",
    "\n",
    "ax.scatter(data['x'], data['y'], s=8, c=data['result'], cmap='rainbow')   "
   ]
  },
  {
   "cell_type": "code",
   "execution_count": null,
   "metadata": {},
   "outputs": [],
   "source": [
    "#Splitting the dataset into train and test dataset\n",
    "X_train, X_test, y_train, y_test = train_test_split(train, ground_truth['result'], random_state = 0) \n",
    "train_set=pd.concat([X_train,y_train],axis=1)\n",
    "test_set=pd.concat([X_test,y_test],axis=1)\n",
    "\n",
    "# Calculating Accuracy of the model\n",
    "a=evaluate(train_set, test_set,knn_main, 5);\n"
   ]
  },
  {
   "cell_type": "code",
   "execution_count": null,
   "metadata": {},
   "outputs": [],
   "source": [
    "print('Accuracy using numpy --',a)"
   ]
  },
  {
   "cell_type": "code",
   "execution_count": null,
   "metadata": {},
   "outputs": [],
   "source": [
    "# KNN implementing using sklearn\n",
    "from sklearn.neighbors import KNeighborsClassifier \n",
    "knn = KNeighborsClassifier(n_neighbors=5)\n",
    "knn.fit(X_train,y_train)\n",
    "knn_predictions = knn.predict(X_test)  \n",
    "\n",
    "# accuracy on X_test \n",
    "accuracy = knn.score(X_test, y_test) \n",
    "print('Accuracy using sklearn --',accuracy*100)"
   ]
  },
  {
   "cell_type": "code",
   "execution_count": null,
   "metadata": {},
   "outputs": [],
   "source": [
    "# Plotting the predicted dataset \n",
    "new_data=pd.concat([X_test,y_test],axis=1)\n",
    "new_data=pd.concat([new_data,pd.concat([X_train,y_train],axis=1)])\n",
    "new_data['x']=new_data['x'].astype(float)\n",
    "new_data['y']=new_data['y'].astype(float)\n",
    "fig, ax = plt.subplots()\n",
    "plt.figure(figsize=(10,10))\n",
    "ax.scatter(new_data['x'], new_data['y'], s=8, c=new_data['result'], cmap='rainbow')    \n",
    "ax.set_ylabel('y')\n",
    "ax.set_xlabel('x')"
   ]
  },
  {
   "cell_type": "code",
   "execution_count": null,
   "metadata": {},
   "outputs": [],
   "source": [
    "# Confusion Matrix\n",
    "cm = confusion_matrix(y_test, knn_predictions) \n",
    "print(cm)"
   ]
  },
  {
   "cell_type": "markdown",
   "metadata": {},
   "source": [
    "Accurcay of both the algorithms implented using numpy as well as sklearn gives almost the same accuracy across 97.7  which is quite good. The clusters are evenly divided with no overlapping of boundaries. The graph observed before and after the prediction is quite similar as our model is able to correctly predict most of the values. "
   ]
  },
  {
   "cell_type": "code",
   "execution_count": null,
   "metadata": {},
   "outputs": [],
   "source": [
    "# Implementing K-Means\n",
    "from copy import deepcopy\n",
    "feature_1=train['x'].astype(np.float);\n",
    "feature_2=train['y'].astype(np.float);\n",
    "features = np.array(list(zip(feature_1, feature_2)))\n",
    "\n",
    "# Calculating  Distance  between two points\n",
    "def dist(a, b, ax=1):\n",
    "    return np.linalg.norm(a - b, axis=ax)\n",
    "\n",
    "# Number of clusters\n",
    "k = 15\n",
    "\n",
    "# X and Y coordinates of random centroids\n",
    "C_x = np.random.randint(0, np.max(features), size=k)\n",
    "C_y = np.random.randint(0, np.max(features), size=k)\n",
    "C = np.array(list(zip(C_x, C_y)), dtype=np.float32)\n",
    "             \n",
    "#Implementing K means using numpy\n",
    "\n",
    "C_old = np.zeros(C.shape)\n",
    "clusters = np.zeros(len(features))\n",
    "\n",
    "# Calculating Distance between new centroids and old centroids\n",
    "error = dist(C, C_old, None)\n",
    "\n",
    "# Minimizing till the error is zero\n",
    "while error != 0:\n",
    "   \n",
    "    for i in range(len(features)):\n",
    "        distances = dist(features[i], C)\n",
    "        cluster = np.argmin(distances)\n",
    "        clusters[i] = cluster\n",
    "    \n",
    "    C_old = deepcopy(C)\n",
    "    \n",
    "    # Calculating the new centroids by taking the average value\n",
    "    for i in range(k):\n",
    "        points = [features[j] for j in range(len(features)) if clusters[j] == i]\n",
    "        C[i] = np.mean(points, axis=0)\n",
    "    error = dist(C, C_old, None)\n",
    "\n",
    "#Centroids              \n",
    "C             "
   ]
  },
  {
   "cell_type": "code",
   "execution_count": null,
   "metadata": {},
   "outputs": [],
   "source": [
    "#Plotting graph\n",
    "colors = ['m', 'g','k','lightgrey','brown','r','coral','chocolate','darkorange','y','c','b','m','pink','slategrey']\n",
    "fig, ax = plt.subplots()\n",
    "for i in range(k):\n",
    "        points = np.array([features[j] for j in range(len(features)) if clusters[j] == i])\n",
    "        ax.scatter(points[:, 0], points[:, 1], s=7, c=colors[i]) \n",
    "ax.scatter(C[:, 0], C[:, 1], marker='*', s=200, c='#050505')"
   ]
  },
  {
   "cell_type": "code",
   "execution_count": null,
   "metadata": {},
   "outputs": [],
   "source": [
    "#Implementing using sklearn\n",
    "from sklearn.cluster import KMeans\n",
    "kmeans = KMeans(n_clusters=15)\n",
    "kmeans = kmeans.fit(features)\n",
    "labels = kmeans.predict(features)\n",
    "\n",
    "centroids_using_sklearn = kmeans.cluster_centers_\n",
    "print(centroids_using_sklearn)"
   ]
  },
  {
   "cell_type": "code",
   "execution_count": null,
   "metadata": {},
   "outputs": [],
   "source": [
    "#Plotting the graph with Centroid of K-Means\n",
    "fig, ax = plt.subplots()\n",
    "ax.scatter(features[:, 0], features[:, 1], s=7, c=labels, cmap='rainbow')        \n",
    "ax.scatter(centroids_using_sklearn[:, 0], centroids_using_sklearn[:, 1], marker='*', s=200, c='#050505')"
   ]
  },
  {
   "cell_type": "code",
   "execution_count": null,
   "metadata": {},
   "outputs": [],
   "source": [
    "#V_measure Score\n",
    "from sklearn.metrics import v_measure_score \n",
    "v_measure_score(new_data['result'], labels)"
   ]
  },
  {
   "cell_type": "markdown",
   "metadata": {},
   "source": [
    "By visualizing the two graphs we can say that  sklearn correcltly identified the clusters and their respective centroids while the numpy algorithm has some misclassfication of centriods.It is able to find out 12 clusters correcltly. In remaining three,it placed two centroid in the same cluster and the last centroid in between 2 clusters. \n",
    "We can improve the performance by taking the initial clusters to be random rather than initilizing with zero."
   ]
  },
  {
   "cell_type": "markdown",
   "metadata": {},
   "source": [
    "# Dataset_1 S3\n"
   ]
  },
  {
   "cell_type": "code",
   "execution_count": null,
   "metadata": {},
   "outputs": [],
   "source": [
    "#Loading Training Data\n",
    "train = pd.read_csv('./Part1_data/dataset_1/S3.txt', names=['cordinates'],error_bad_lines=False);\n",
    "new = train[\"cordinates\"].str.split(\"    \", n = 2, expand = True) \n",
    "train['x']=new[1]\n",
    "train['y']=new[2]\n",
    "train=train.drop(columns=['cordinates'])"
   ]
  },
  {
   "cell_type": "code",
   "execution_count": null,
   "metadata": {},
   "outputs": [],
   "source": [
    "# Loading Ground Truth Values\n",
    "ground_truth_old= pd.read_csv('./Part1_data/dataset_1/s-originals/s3-label.pa',error_bad_lines=False);\n",
    "ground_truth=ground_truth_old[4:];\n",
    "ground_truth.columns=['result']\n",
    "\n",
    "ground_truth.reset_index(inplace = True) \n",
    "data=ground_truth['result']\n",
    "\n",
    "result = pd.DataFrame(data=ground_truth.result, columns=['result'])\n",
    "data=pd.concat([train,result],axis=1);\n",
    "new_data=data.drop('result',axis=1)\n",
    "new_data"
   ]
  },
  {
   "cell_type": "code",
   "execution_count": null,
   "metadata": {},
   "outputs": [],
   "source": [
    "ground_truth['result']=ground_truth['result'].astype(int)\n",
    "train['ground_truth']=ground_truth['result']"
   ]
  },
  {
   "cell_type": "code",
   "execution_count": null,
   "metadata": {},
   "outputs": [],
   "source": [
    "#Plotting the data \n",
    "fig, ax = plt.subplots()\n",
    "plt.figure(figsize=(10,10))\n",
    "data['result']=data['result'].astype(int)\n",
    "data['x']=data['x'].astype(int)\n",
    "data['y']=data['y'].astype(int)\n",
    "\n",
    "ax.scatter(data['x'], data['y'], s=8, c=data['result'], cmap='rainbow')   "
   ]
  },
  {
   "cell_type": "code",
   "execution_count": null,
   "metadata": {},
   "outputs": [],
   "source": [
    "#Splitting the dataset into train and test dataset\n",
    "X_train, X_test, y_train, y_test = train_test_split(train, ground_truth['result'], random_state = 0) \n",
    "train_set=pd.concat([X_train,y_train],axis=1)\n",
    "test_set=pd.concat([X_test,y_test],axis=1)\n",
    "\n",
    "# Calculating Accuracy of the model\n",
    "a=evaluate(train_set, test_set,knn_main, 5);\n",
    "print('Accuracy using numpy --',a)"
   ]
  },
  {
   "cell_type": "code",
   "execution_count": null,
   "metadata": {},
   "outputs": [],
   "source": [
    "# KNN implementing using sklearn\n",
    "from sklearn.neighbors import KNeighborsClassifier \n",
    "knn = KNeighborsClassifier(n_neighbors=5)\n",
    "knn.fit(X_train,y_train)\n",
    "knn_predictions = knn.predict(X_test)  \n",
    "\n",
    "# accuracy on X_test \n",
    "accuracy = knn.score(X_test, y_test) \n",
    "print('Accuracy using sklearn --',accuracy*100)"
   ]
  },
  {
   "cell_type": "code",
   "execution_count": null,
   "metadata": {},
   "outputs": [],
   "source": [
    "# Plotting the predicted dataset \n",
    "new_data=pd.concat([X_test,y_test],axis=1)\n",
    "new_data=pd.concat([new_data,pd.concat([X_train,y_train],axis=1)])\n",
    "new_data['x']=new_data['x'].astype(float)\n",
    "new_data['y']=new_data['y'].astype(float)\n",
    "fig, ax = plt.subplots()\n",
    "plt.figure(figsize=(10,10))\n",
    "ax.scatter(new_data['x'], new_data['y'], s=8, c=new_data['result'], cmap='rainbow')    \n",
    "ax.set_ylabel('y')\n",
    "ax.set_xlabel('x')"
   ]
  },
  {
   "cell_type": "code",
   "execution_count": null,
   "metadata": {},
   "outputs": [],
   "source": [
    "# Confusion Matrix\n",
    "cm = confusion_matrix(y_test, knn_predictions) \n",
    "print(cm)"
   ]
  },
  {
   "cell_type": "markdown",
   "metadata": {},
   "source": [
    "Accurcay of both the algorithms implented using numpy as well as sklearn gives almost the same accuracy across 87 % which is  somewhat less compared to the prediction made in previous dataset. The clusters are not evenly divided and we can see some overlapping of boundaries. The graph observed before and after the prediction is quite similar as our model is able to correctly predict most of the values. "
   ]
  },
  {
   "cell_type": "code",
   "execution_count": null,
   "metadata": {},
   "outputs": [],
   "source": [
    "# Implementing K-Means\n",
    "from copy import deepcopy\n",
    "feature_1=train['x'].astype(np.float);\n",
    "feature_2=train['y'].astype(np.float);\n",
    "features = np.array(list(zip(feature_1, feature_2)))\n",
    "\n",
    "# Calculating  Distance  between two points\n",
    "def dist(a, b, ax=1):\n",
    "    return np.linalg.norm(a - b, axis=ax)\n",
    "\n",
    "# Number of clusters\n",
    "k = 15\n",
    "\n",
    "# X and Y coordinates of random centroids\n",
    "C_x = np.random.randint(0, np.max(features), size=k)\n",
    "C_y = np.random.randint(0, np.max(features), size=k)\n",
    "C = np.array(list(zip(C_x, C_y)), dtype=np.float32)\n",
    "             \n",
    "#Implementing K means using numpy\n",
    "\n",
    "C_old = np.zeros(C.shape)\n",
    "clusters = np.zeros(len(features))\n",
    "\n",
    "# Calculating Distance between new centroids and old centroids\n",
    "error = dist(C, C_old, None)\n",
    "\n",
    "# Minimizing till the error is zero\n",
    "while error != 0:\n",
    "   \n",
    "    for i in range(len(features)):\n",
    "        distances = dist(features[i], C)\n",
    "        cluster = np.argmin(distances)\n",
    "        clusters[i] = cluster\n",
    "    \n",
    "    C_old = deepcopy(C)\n",
    "    \n",
    "    # Calculating the new centroids by taking the average value\n",
    "    for i in range(k):\n",
    "        points = [features[j] for j in range(len(features)) if clusters[j] == i]\n",
    "        C[i] = np.mean(points, axis=0)\n",
    "    error = dist(C, C_old, None)\n",
    "\n",
    "#Centroids              \n",
    "C             "
   ]
  },
  {
   "cell_type": "code",
   "execution_count": null,
   "metadata": {},
   "outputs": [],
   "source": [
    "#Plotting graph\n",
    "colors = ['m', 'g','k','lightgrey','brown','r','coral','chocolate','darkorange','y','c','b','m','pink','slategrey']\n",
    "fig, ax = plt.subplots()\n",
    "for i in range(k):\n",
    "        points = np.array([features[j] for j in range(len(features)) if clusters[j] == i])\n",
    "        ax.scatter(points[:, 0], points[:, 1], s=7, c=colors[i]) \n",
    "ax.scatter(C[:, 0], C[:, 1], marker='*', s=200, c='#050505')"
   ]
  },
  {
   "cell_type": "code",
   "execution_count": null,
   "metadata": {},
   "outputs": [],
   "source": [
    "#Implementing using sklearn\n",
    "from sklearn.cluster import KMeans\n",
    "kmeans = KMeans(n_clusters=15)\n",
    "kmeans = kmeans.fit(features)\n",
    "labels = kmeans.predict(features)\n",
    "\n",
    "centroids_using_sklearn = kmeans.cluster_centers_\n",
    "print(centroids_using_sklearn)"
   ]
  },
  {
   "cell_type": "code",
   "execution_count": null,
   "metadata": {},
   "outputs": [],
   "source": [
    "#Plotting the graph with Centroid of K-Means\n",
    "fig, ax = plt.subplots()\n",
    "ax.scatter(features[:, 0], features[:, 1], s=7, c=labels, cmap='rainbow')        \n",
    "ax.scatter(centroids_using_sklearn[:, 0], centroids_using_sklearn[:, 1], marker='*', s=200, c='#050505')"
   ]
  },
  {
   "cell_type": "code",
   "execution_count": null,
   "metadata": {},
   "outputs": [],
   "source": [
    "#V_measure Score\n",
    "from sklearn.metrics import v_measure_score \n",
    "v_measure_score(new_data['result'], labels)"
   ]
  },
  {
   "cell_type": "markdown",
   "metadata": {},
   "source": [
    "By visualizing the two graphs we can say that  sklearn correcltly identified the clusters and their respective centroids while the numpy algorithm has some misclassfication of centriods.It is able to find out 12 clusters correcltly. In remaining three,it placed two centroid in the same cluster and the last centroid in between 2 clusters. \n",
    "We can improve the performance by taking the initial clusters to be random rather than initilizing with zero."
   ]
  },
  {
   "cell_type": "markdown",
   "metadata": {},
   "source": [
    "# Dataset_1 S4"
   ]
  },
  {
   "cell_type": "code",
   "execution_count": null,
   "metadata": {},
   "outputs": [],
   "source": [
    "#Loading Training Data\n",
    "train = pd.read_csv('./Part1_data/dataset_1/S4.txt', names=['cordinates'],error_bad_lines=False);\n",
    "new = train[\"cordinates\"].str.split(\"    \", n = 2, expand = True) \n",
    "train['x']=new[1]\n",
    "train['y']=new[2]\n",
    "train=train.drop(columns=['cordinates'])"
   ]
  },
  {
   "cell_type": "code",
   "execution_count": null,
   "metadata": {},
   "outputs": [],
   "source": [
    "# Loading Ground Truth Values\n",
    "ground_truth_old= pd.read_csv('./Part1_data/dataset_1/s-originals/s4-label.pa',error_bad_lines=False);\n",
    "ground_truth=ground_truth_old[4:];\n",
    "ground_truth.columns=['result']\n",
    "\n",
    "ground_truth.reset_index(inplace = True) \n",
    "data=ground_truth['result']\n",
    "\n",
    "result = pd.DataFrame(data=ground_truth.result, columns=['result'])\n",
    "data=pd.concat([train,result],axis=1);\n",
    "new_data=data.drop('result',axis=1)\n",
    "new_data"
   ]
  },
  {
   "cell_type": "code",
   "execution_count": null,
   "metadata": {},
   "outputs": [],
   "source": [
    "ground_truth['result']=ground_truth['result'].astype(int)\n",
    "train['ground_truth']=ground_truth['result']"
   ]
  },
  {
   "cell_type": "code",
   "execution_count": null,
   "metadata": {},
   "outputs": [],
   "source": [
    "#Plotting the data \n",
    "fig, ax = plt.subplots()\n",
    "plt.figure(figsize=(10,10))\n",
    "data['result']=data['result'].astype(int)\n",
    "data['x']=data['x'].astype(int)\n",
    "data['y']=data['y'].astype(int)\n",
    "\n",
    "ax.scatter(data['x'], data['y'], s=8, c=data['result'], cmap='rainbow') "
   ]
  },
  {
   "cell_type": "code",
   "execution_count": null,
   "metadata": {},
   "outputs": [],
   "source": [
    "#Splitting the dataset into train and test dataset\n",
    "X_train, X_test, y_train, y_test = train_test_split(train, ground_truth['result'], random_state = 0) \n",
    "train_set=pd.concat([X_train,y_train],axis=1)\n",
    "test_set=pd.concat([X_test,y_test],axis=1)\n",
    "\n",
    "# Calculating Accuracy of the model\n",
    "a=evaluate(train_set, test_set,knn_main, 5);\n",
    "print('Accuracy using numpy --',a)"
   ]
  },
  {
   "cell_type": "code",
   "execution_count": null,
   "metadata": {},
   "outputs": [],
   "source": [
    "# KNN implementing using sklearn\n",
    "from sklearn.neighbors import KNeighborsClassifier \n",
    "knn = KNeighborsClassifier(n_neighbors=5)\n",
    "knn.fit(X_train,y_train)\n",
    "knn_predictions = knn.predict(X_test)  \n",
    "\n",
    "# accuracy on X_test \n",
    "accuracy = knn.score(X_test, y_test) \n",
    "print('Accuracy using sklearn --',accuracy*100)"
   ]
  },
  {
   "cell_type": "code",
   "execution_count": null,
   "metadata": {},
   "outputs": [],
   "source": [
    "# Plotting the predicted dataset \n",
    "new_data=pd.concat([X_test,y_test],axis=1)\n",
    "new_data=pd.concat([new_data,pd.concat([X_train,y_train],axis=1)])\n",
    "new_data['x']=new_data['x'].astype(float)\n",
    "new_data['y']=new_data['y'].astype(float)\n",
    "fig, ax = plt.subplots()\n",
    "plt.figure(figsize=(10,10))\n",
    "ax.scatter(new_data['x'], new_data['y'], s=8, c=new_data['result'], cmap='rainbow')    \n",
    "ax.set_ylabel('y')\n",
    "ax.set_xlabel('x')"
   ]
  },
  {
   "cell_type": "code",
   "execution_count": null,
   "metadata": {},
   "outputs": [],
   "source": [
    "# Confusion Matrix\n",
    "cm = confusion_matrix(y_test, knn_predictions) \n",
    "print(cm)"
   ]
  },
  {
   "cell_type": "markdown",
   "metadata": {},
   "source": [
    "Accurcay of both the algorithms implented using numpy as well as sklearn gives almost the same accuracy across 87 % which is  somewhat less compared to the prediction made in previous dataset. The clusters are not evenly divided and we can see some overlapping of boundaries. The graph observed before and after the prediction is quite similar as our model is able to correctly predict most of the values. "
   ]
  },
  {
   "cell_type": "code",
   "execution_count": null,
   "metadata": {},
   "outputs": [],
   "source": [
    "# Implementing K-Means\n",
    "from copy import deepcopy\n",
    "feature_1=train['x'].astype(np.float);\n",
    "feature_2=train['y'].astype(np.float);\n",
    "features = np.array(list(zip(feature_1, feature_2)))\n",
    "\n",
    "# Calculating  Distance  between two points\n",
    "def dist(a, b, ax=1):\n",
    "    return np.linalg.norm(a - b, axis=ax)\n",
    "\n",
    "# Number of clusters\n",
    "k = 15\n",
    "\n",
    "# X and Y coordinates of random centroids\n",
    "C_x = np.random.randint(0, np.max(features), size=k)\n",
    "C_y = np.random.randint(0, np.max(features), size=k)\n",
    "C = np.array(list(zip(C_x, C_y)), dtype=np.float32)\n",
    "             \n",
    "#Implementing K means using numpy\n",
    "\n",
    "C_old = np.zeros(C.shape)\n",
    "clusters = np.zeros(len(features))\n",
    "\n",
    "# Calculating Distance between new centroids and old centroids\n",
    "error = dist(C, C_old, None)\n",
    "\n",
    "# Minimizing till the error is zero\n",
    "while error != 0:\n",
    "   \n",
    "    for i in range(len(features)):\n",
    "        distances = dist(features[i], C)\n",
    "        cluster = np.argmin(distances)\n",
    "        clusters[i] = cluster\n",
    "    \n",
    "    C_old = deepcopy(C)\n",
    "    \n",
    "    # Calculating the new centroids by taking the average value\n",
    "    for i in range(k):\n",
    "        points = [features[j] for j in range(len(features)) if clusters[j] == i]\n",
    "        C[i] = np.mean(points, axis=0)\n",
    "    error = dist(C, C_old, None)\n",
    "\n",
    "#Centroids              \n",
    "C             "
   ]
  },
  {
   "cell_type": "code",
   "execution_count": null,
   "metadata": {},
   "outputs": [],
   "source": [
    "#Plotting graph\n",
    "colors = ['m', 'g','k','lightgrey','brown','r','coral','chocolate','darkorange','y','c','b','m','pink','slategrey']\n",
    "fig, ax = plt.subplots()\n",
    "for i in range(k):\n",
    "        points = np.array([features[j] for j in range(len(features)) if clusters[j] == i])\n",
    "        ax.scatter(points[:, 0], points[:, 1], s=7, c=colors[i]) \n",
    "ax.scatter(C[:, 0], C[:, 1], marker='*', s=200, c='#050505')"
   ]
  },
  {
   "cell_type": "code",
   "execution_count": null,
   "metadata": {},
   "outputs": [],
   "source": [
    "#Implementing using sklearn\n",
    "from sklearn.cluster import KMeans\n",
    "kmeans = KMeans(n_clusters=15)\n",
    "kmeans = kmeans.fit(features)\n",
    "labels = kmeans.predict(features)\n",
    "\n",
    "centroids_using_sklearn = kmeans.cluster_centers_\n",
    "print(centroids_using_sklearn)"
   ]
  },
  {
   "cell_type": "code",
   "execution_count": null,
   "metadata": {},
   "outputs": [],
   "source": [
    "#Plotting the graph with Centroid of K-Means\n",
    "fig, ax = plt.subplots()\n",
    "ax.scatter(features[:, 0], features[:, 1], s=7, c=labels, cmap='rainbow')        \n",
    "ax.scatter(centroids_using_sklearn[:, 0], centroids_using_sklearn[:, 1], marker='*', s=200, c='#050505')"
   ]
  },
  {
   "cell_type": "code",
   "execution_count": null,
   "metadata": {},
   "outputs": [],
   "source": [
    "#V_measure Score\n",
    "from sklearn.metrics import v_measure_score \n",
    "v_measure_score(new_data['result'], labels)"
   ]
  },
  {
   "cell_type": "markdown",
   "metadata": {},
   "source": [
    "By visualizing the two graphs we can say that  sklearn correcltly identified the clusters and their respective centroids while the numpy algorithm has some misclassfication of centriods.It is able to find out 12 clusters correcltly. In remaining three,it placed two centroid in the same cluster and the last centroid in between 2 clusters. \n",
    "We can improve the performance by taking the initial clusters to be random rather than initilizing with zero."
   ]
  }
 ],
 "metadata": {
  "kernelspec": {
   "display_name": "Python 3",
   "language": "python",
   "name": "python3"
  },
  "language_info": {
   "codemirror_mode": {
    "name": "ipython",
    "version": 3
   },
   "file_extension": ".py",
   "mimetype": "text/x-python",
   "name": "python",
   "nbconvert_exporter": "python",
   "pygments_lexer": "ipython3",
   "version": "3.7.4"
  }
 },
 "nbformat": 4,
 "nbformat_minor": 2
}
