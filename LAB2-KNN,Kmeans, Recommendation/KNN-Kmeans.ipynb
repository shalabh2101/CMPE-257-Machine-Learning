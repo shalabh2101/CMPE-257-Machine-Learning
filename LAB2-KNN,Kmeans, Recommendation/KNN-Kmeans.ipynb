{
 "cells": [
  {
   "cell_type": "code",
   "execution_count": 1,
   "metadata": {},
   "outputs": [],
   "source": [
    "import numpy as np;\n",
    "import pandas as pd;\n",
    "import operator;\n",
    "from sklearn.model_selection import train_test_split;\n",
    "from sklearn.neighbors import KNeighborsClassifier \n",
    "from sklearn.metrics import confusion_matrix \n"
   ]
  },
  {
   "cell_type": "code",
   "execution_count": 2,
   "metadata": {},
   "outputs": [],
   "source": [
    "train = pd.read_csv('./Part1_data/dataset_2/dim32.txt',sep='\\s+',error_bad_lines=False);"
   ]
  },
  {
   "cell_type": "code",
   "execution_count": 3,
   "metadata": {},
   "outputs": [
    {
     "data": {
      "text/html": [
       "<div>\n",
       "<style scoped>\n",
       "    .dataframe tbody tr th:only-of-type {\n",
       "        vertical-align: middle;\n",
       "    }\n",
       "\n",
       "    .dataframe tbody tr th {\n",
       "        vertical-align: top;\n",
       "    }\n",
       "\n",
       "    .dataframe thead th {\n",
       "        text-align: right;\n",
       "    }\n",
       "</style>\n",
       "<table border=\"1\" class=\"dataframe\">\n",
       "  <thead>\n",
       "    <tr style=\"text-align: right;\">\n",
       "      <th></th>\n",
       "      <th>x</th>\n",
       "      <th>y</th>\n",
       "    </tr>\n",
       "  </thead>\n",
       "  <tbody>\n",
       "    <tr>\n",
       "      <td>0</td>\n",
       "      <td>-90.256398</td>\n",
       "      <td>-82.369319</td>\n",
       "    </tr>\n",
       "    <tr>\n",
       "      <td>1</td>\n",
       "      <td>-99.025680</td>\n",
       "      <td>-86.104069</td>\n",
       "    </tr>\n",
       "    <tr>\n",
       "      <td>2</td>\n",
       "      <td>-96.636972</td>\n",
       "      <td>-76.542899</td>\n",
       "    </tr>\n",
       "    <tr>\n",
       "      <td>3</td>\n",
       "      <td>-105.927585</td>\n",
       "      <td>-97.288460</td>\n",
       "    </tr>\n",
       "    <tr>\n",
       "      <td>4</td>\n",
       "      <td>-99.668723</td>\n",
       "      <td>-85.412173</td>\n",
       "    </tr>\n",
       "    <tr>\n",
       "      <td>...</td>\n",
       "      <td>...</td>\n",
       "      <td>...</td>\n",
       "    </tr>\n",
       "    <tr>\n",
       "      <td>1018</td>\n",
       "      <td>-104.241402</td>\n",
       "      <td>74.652039</td>\n",
       "    </tr>\n",
       "    <tr>\n",
       "      <td>1019</td>\n",
       "      <td>-104.160004</td>\n",
       "      <td>74.508951</td>\n",
       "    </tr>\n",
       "    <tr>\n",
       "      <td>1020</td>\n",
       "      <td>-104.956779</td>\n",
       "      <td>73.238328</td>\n",
       "    </tr>\n",
       "    <tr>\n",
       "      <td>1021</td>\n",
       "      <td>-104.363090</td>\n",
       "      <td>71.201631</td>\n",
       "    </tr>\n",
       "    <tr>\n",
       "      <td>1022</td>\n",
       "      <td>-104.631881</td>\n",
       "      <td>74.180093</td>\n",
       "    </tr>\n",
       "  </tbody>\n",
       "</table>\n",
       "<p>1023 rows × 2 columns</p>\n",
       "</div>"
      ],
      "text/plain": [
       "               x          y\n",
       "0     -90.256398 -82.369319\n",
       "1     -99.025680 -86.104069\n",
       "2     -96.636972 -76.542899\n",
       "3    -105.927585 -97.288460\n",
       "4     -99.668723 -85.412173\n",
       "...          ...        ...\n",
       "1018 -104.241402  74.652039\n",
       "1019 -104.160004  74.508951\n",
       "1020 -104.956779  73.238328\n",
       "1021 -104.363090  71.201631\n",
       "1022 -104.631881  74.180093\n",
       "\n",
       "[1023 rows x 2 columns]"
      ]
     },
     "execution_count": 3,
     "metadata": {},
     "output_type": "execute_result"
    }
   ],
   "source": [
    "# Applying the PCA to convert the 32 dimensions into 2.\n",
    "from sklearn.decomposition import PCA\n",
    "pca = PCA(n_components=2)\n",
    "principalComponents = pca.fit_transform(train)\n",
    "principalDf = pd.DataFrame(data = principalComponents\n",
    "             , columns = ['x', 'y'])\n",
    "principalDf"
   ]
  },
  {
   "cell_type": "code",
   "execution_count": 4,
   "metadata": {},
   "outputs": [
    {
     "data": {
      "text/html": [
       "<div>\n",
       "<style scoped>\n",
       "    .dataframe tbody tr th:only-of-type {\n",
       "        vertical-align: middle;\n",
       "    }\n",
       "\n",
       "    .dataframe tbody tr th {\n",
       "        vertical-align: top;\n",
       "    }\n",
       "\n",
       "    .dataframe thead th {\n",
       "        text-align: right;\n",
       "    }\n",
       "</style>\n",
       "<table border=\"1\" class=\"dataframe\">\n",
       "  <thead>\n",
       "    <tr style=\"text-align: right;\">\n",
       "      <th></th>\n",
       "      <th>x</th>\n",
       "      <th>y</th>\n",
       "    </tr>\n",
       "  </thead>\n",
       "  <tbody>\n",
       "    <tr>\n",
       "      <td>0</td>\n",
       "      <td>-90.256398</td>\n",
       "      <td>-82.369319</td>\n",
       "    </tr>\n",
       "    <tr>\n",
       "      <td>1</td>\n",
       "      <td>-99.025680</td>\n",
       "      <td>-86.104069</td>\n",
       "    </tr>\n",
       "    <tr>\n",
       "      <td>2</td>\n",
       "      <td>-96.636972</td>\n",
       "      <td>-76.542899</td>\n",
       "    </tr>\n",
       "    <tr>\n",
       "      <td>3</td>\n",
       "      <td>-105.927585</td>\n",
       "      <td>-97.288460</td>\n",
       "    </tr>\n",
       "    <tr>\n",
       "      <td>4</td>\n",
       "      <td>-99.668723</td>\n",
       "      <td>-85.412173</td>\n",
       "    </tr>\n",
       "    <tr>\n",
       "      <td>...</td>\n",
       "      <td>...</td>\n",
       "      <td>...</td>\n",
       "    </tr>\n",
       "    <tr>\n",
       "      <td>1018</td>\n",
       "      <td>-104.241402</td>\n",
       "      <td>74.652039</td>\n",
       "    </tr>\n",
       "    <tr>\n",
       "      <td>1019</td>\n",
       "      <td>-104.160004</td>\n",
       "      <td>74.508951</td>\n",
       "    </tr>\n",
       "    <tr>\n",
       "      <td>1020</td>\n",
       "      <td>-104.956779</td>\n",
       "      <td>73.238328</td>\n",
       "    </tr>\n",
       "    <tr>\n",
       "      <td>1021</td>\n",
       "      <td>-104.363090</td>\n",
       "      <td>71.201631</td>\n",
       "    </tr>\n",
       "    <tr>\n",
       "      <td>1022</td>\n",
       "      <td>-104.631881</td>\n",
       "      <td>74.180093</td>\n",
       "    </tr>\n",
       "  </tbody>\n",
       "</table>\n",
       "<p>1023 rows × 2 columns</p>\n",
       "</div>"
      ],
      "text/plain": [
       "               x          y\n",
       "0     -90.256398 -82.369319\n",
       "1     -99.025680 -86.104069\n",
       "2     -96.636972 -76.542899\n",
       "3    -105.927585 -97.288460\n",
       "4     -99.668723 -85.412173\n",
       "...          ...        ...\n",
       "1018 -104.241402  74.652039\n",
       "1019 -104.160004  74.508951\n",
       "1020 -104.956779  73.238328\n",
       "1021 -104.363090  71.201631\n",
       "1022 -104.631881  74.180093\n",
       "\n",
       "[1023 rows x 2 columns]"
      ]
     },
     "execution_count": 4,
     "metadata": {},
     "output_type": "execute_result"
    }
   ],
   "source": [
    "# Loading Ground Truth Values\n",
    "ground_truth= pd.read_csv('./Part1_data/dataset_2/dim32_ground_truth.txt',error_bad_lines=False);\n",
    "ground_truth\n",
    "\n",
    "\n",
    "ground_truth.columns=['result']\n",
    "# data=ground_truth['result']\n",
    "train=principalDf\n",
    "#  train = pd.DataFrame(data=principalDf, columns=['result'])\n",
    "data=pd.concat([train,ground_truth],axis=1);\n",
    "new_data=data.drop('result',axis=1)\n",
    "new_data"
   ]
  },
  {
   "cell_type": "code",
   "execution_count": 5,
   "metadata": {},
   "outputs": [],
   "source": [
    "ground_truth['result']=ground_truth['result'].astype(int)\n",
    "train['ground_truth']=ground_truth['result']"
   ]
  },
  {
   "cell_type": "code",
   "execution_count": 8,
   "metadata": {},
   "outputs": [
    {
     "data": {
      "text/plain": [
       "<matplotlib.collections.PathCollection at 0x1a24f10cd0>"
      ]
     },
     "execution_count": 8,
     "metadata": {},
     "output_type": "execute_result"
    },
    {
     "data": {
      "image/png": "[encoded data removed]",
      "text/plain": [
       "<Figure size 432x288 with 1 Axes>"
      ]
     },
     "metadata": {
      "needs_background": "light"
     },
     "output_type": "display_data"
    },
    {
     "data": {
      "text/plain": [
       "<Figure size 720x720 with 0 Axes>"
      ]
     },
     "metadata": {},
     "output_type": "display_data"
    }
   ],
   "source": [
    "# Plottting the dataset in diffrent colors\n",
    "from matplotlib import pyplot as plt\n",
    "fig, ax = plt.subplots()\n",
    "plt.figure(figsize=(10,10))\n",
    "data['result']=data['result'].astype(int)\n",
    "data['x']=data['x'].astype(int)\n",
    "data['y']=data['y'].astype(int)\n",
    "\n",
    "ax.scatter(data['x'], data['y'], s=8, c=data['result'], cmap='rainbow')   "
   ]
  },
  {
   "cell_type": "code",
   "execution_count": 9,
   "metadata": {},
   "outputs": [],
   "source": [
    "#Implementing KNN\n",
    "def convertToArray(data):\n",
    "    res = []\n",
    "    for index in range(len(data)):\n",
    "        temp = []\n",
    "        for j in range(len(data.iloc[index])):\n",
    "            try:\n",
    "                temp.append(int(data.iloc[index][j]))\n",
    "            except:\n",
    "                temp.append(data.iloc[index][j])\n",
    "        res.append(temp)\n",
    "    return res"
   ]
  },
  {
   "cell_type": "code",
   "execution_count": 10,
   "metadata": {},
   "outputs": [],
   "source": [
    "#  Calculating Euclidean Distance\n",
    "def euclidean_distance(x1, x2, length):\n",
    "    distance = 0\n",
    "    for x in range(length):\n",
    "        distance += np.square(x1[x] - x2[x])\n",
    "    return np.sqrt(distance)\n",
    "\n",
    "#  K-Nearest Neighbour model\n",
    "def knn_main(training_data, testquery, k):\n",
    "    distances = {}\n",
    "    length = len(testquery)\n",
    "    for x in range(len(training_data)):\n",
    "        dist = euclidean_distance(testquery, training_data[x], length)\n",
    "        distances[x] = dist\n",
    "    sortdist = sorted(distances.items(), key=operator.itemgetter(1))\n",
    "    neighbors = []\n",
    "    for x in range(k):\n",
    "        neighbors.append(sortdist[x][0])\n",
    "    Count = {}  \n",
    "    for x in range(len(neighbors)):\n",
    "        response = training_data[neighbors[x]][-1]\n",
    "        if response in Count:\n",
    "            Count[response] += 1\n",
    "        else:\n",
    "            Count[response] = 1\n",
    "    best_values = sorted(Count.items(), key=operator.itemgetter(1), reverse=True)\n",
    "    return (best_values[0][0])\n",
    "\n"
   ]
  },
  {
   "cell_type": "code",
   "execution_count": 13,
   "metadata": {},
   "outputs": [],
   "source": [
    "# Calculate accuracy percentage\n",
    "def accuracy_measure(truth, pred):\n",
    "    sum = 0\n",
    "    for i in range(len(truth)):\n",
    "        if truth[i] == pred[i]:\n",
    "            sum += 1\n",
    "    return sum / float(len(truth)) * 100.0\n",
    "\n",
    "def evaluate(train_set,test_set, algorithm, k):\n",
    "    new_train_set=convertToArray(train_set)\n",
    "    new_test_set=convertToArray(test_set)  \n",
    "    predicted_results = []\n",
    "    for index in range(len(new_test_set)):\n",
    "        predicted_results.append(algorithm(new_train_set, new_test_set[index], k))\n",
    "    actual = [row[-1] for row in new_test_set]\n",
    "    accuracy = accuracy_measure(actual, predicted_results)\n",
    "    return (accuracy)"
   ]
  },
  {
   "cell_type": "code",
   "execution_count": 14,
   "metadata": {},
   "outputs": [],
   "source": [
    "#Splitting the dataset into train and test dataset\n",
    "X_train, X_test, y_train, y_test = train_test_split(train, ground_truth['result'], random_state = 0) \n",
    "train_set=pd.concat([X_train,y_train],axis=1)\n",
    "test_set=pd.concat([X_test,y_test],axis=1)"
   ]
  },
  {
   "cell_type": "code",
   "execution_count": 15,
   "metadata": {},
   "outputs": [
    {
     "name": "stdout",
     "output_type": "stream",
     "text": [
      "Accuracy using numpy -- 100.0\n"
     ]
    }
   ],
   "source": [
    "# Calculating Accuracy of the model\n",
    "a=evaluate(train_set, test_set,knn_main, 5);\n",
    "print('Accuracy using numpy --',a)"
   ]
  },
  {
   "cell_type": "code",
   "execution_count": 16,
   "metadata": {},
   "outputs": [
    {
     "name": "stdout",
     "output_type": "stream",
     "text": [
      "Accuracy using sklearn -- 100.0\n"
     ]
    }
   ],
   "source": [
    "# KNN implementing using sklearn\n",
    "knn = KNeighborsClassifier(n_neighbors=5)\n",
    "knn.fit(X_train,y_train)\n",
    "knn_predictions = knn.predict(X_test)  \n",
    "\n",
    "# accuracy on X_test \n",
    "accuracy = knn.score(X_test, y_test) \n",
    "print('Accuracy using sklearn --',accuracy*100)"
   ]
  },
  {
   "cell_type": "code",
   "execution_count": 22,
   "metadata": {},
   "outputs": [
    {
     "data": {
      "text/plain": [
       "Text(0.5, 0, 'x')"
      ]
     },
     "execution_count": 22,
     "metadata": {},
     "output_type": "execute_result"
    },
    {
     "data": {
      "image/png": "[encoded data removed]",
      "text/plain": [
       "<Figure size 432x288 with 1 Axes>"
      ]
     },
     "metadata": {
      "needs_background": "light"
     },
     "output_type": "display_data"
    },
    {
     "data": {
      "text/plain": [
       "<Figure size 720x720 with 0 Axes>"
      ]
     },
     "metadata": {},
     "output_type": "display_data"
    }
   ],
   "source": [
    "# Plotting the predicted dataset \n",
    "new_data=pd.concat([X_test,y_test],axis=1)\n",
    "new_data=pd.concat([new_data,pd.concat([X_train,y_train],axis=1)])\n",
    "new_data['x']=new_data['x'].astype(float)\n",
    "new_data['y']=new_data['y'].astype(float)\n",
    "fig, ax = plt.subplots()\n",
    "plt.figure(figsize=(10,10))\n",
    "ax.scatter(new_data['x'], new_data['y'], s=8, c=new_data['result'], cmap='rainbow')    \n",
    "ax.set_ylabel('y')\n",
    "ax.set_xlabel('x')"
   ]
  },
  {
   "cell_type": "code",
   "execution_count": 17,
   "metadata": {},
   "outputs": [
    {
     "name": "stdout",
     "output_type": "stream",
     "text": [
      "[[17  0  0  0  0  0  0  0  0  0  0  0  0  0  0  0]\n",
      " [ 0 11  0  0  0  0  0  0  0  0  0  0  0  0  0  0]\n",
      " [ 0  0  9  0  0  0  0  0  0  0  0  0  0  0  0  0]\n",
      " [ 0  0  0 17  0  0  0  0  0  0  0  0  0  0  0  0]\n",
      " [ 0  0  0  0 18  0  0  0  0  0  0  0  0  0  0  0]\n",
      " [ 0  0  0  0  0 16  0  0  0  0  0  0  0  0  0  0]\n",
      " [ 0  0  0  0  0  0 18  0  0  0  0  0  0  0  0  0]\n",
      " [ 0  0  0  0  0  0  0 20  0  0  0  0  0  0  0  0]\n",
      " [ 0  0  0  0  0  0  0  0 16  0  0  0  0  0  0  0]\n",
      " [ 0  0  0  0  0  0  0  0  0 16  0  0  0  0  0  0]\n",
      " [ 0  0  0  0  0  0  0  0  0  0 13  0  0  0  0  0]\n",
      " [ 0  0  0  0  0  0  0  0  0  0  0 22  0  0  0  0]\n",
      " [ 0  0  0  0  0  0  0  0  0  0  0  0 17  0  0  0]\n",
      " [ 0  0  0  0  0  0  0  0  0  0  0  0  0 20  0  0]\n",
      " [ 0  0  0  0  0  0  0  0  0  0  0  0  0  0 13  0]\n",
      " [ 0  0  0  0  0  0  0  0  0  0  0  0  0  0  0 13]]\n"
     ]
    }
   ],
   "source": [
    "# Confusion Matrix\n",
    "cm = confusion_matrix(y_test, knn_predictions) \n",
    "print(cm)"
   ]
  },
  {
   "cell_type": "markdown",
   "metadata": {},
   "source": [
    "Accurcay of both the algorithms implented using numpy as well as sklearn gives the same accuracy 100% which is quite good. The clusters are evenly divided with no overlapping of boundaries. The graph observed before and after the prediction is quite similar as our model is able to correctly all the values ."
   ]
  },
  {
   "cell_type": "code",
   "execution_count": null,
   "metadata": {},
   "outputs": [
    {
     "name": "stderr",
     "output_type": "stream",
     "text": [
      "/Users/shalabhneema/opt/anaconda3/lib/python3.7/site-packages/numpy/core/fromnumeric.py:3257: RuntimeWarning: Mean of empty slice.\n",
      "  out=out, **kwargs)\n",
      "/Users/shalabhneema/opt/anaconda3/lib/python3.7/site-packages/numpy/core/_methods.py:161: RuntimeWarning: invalid value encountered in double_scalars\n",
      "  ret = ret.dtype.type(ret / rcount)\n"
     ]
    }
   ],
   "source": [
    "# Implementing K-Means\n",
    "feature_1=train['x'].astype(np.float);\n",
    "feature_2=train['y'].astype(np.float);\n",
    "features = np.array(list(zip(feature_1, feature_2)))\n",
    "\n",
    "# Calculating  Distance  between two points\n",
    "def dist(a, b, ax=1):\n",
    "    return np.linalg.norm(a - b, axis=ax)\n",
    "\n",
    "# Number of clusters\n",
    "k = 15\n",
    "\n",
    "# X and Y coordinates of random centroids\n",
    "C_x = np.random.randint(0, np.max(features), size=k)\n",
    "C_y = np.random.randint(0, np.max(features), size=k)\n",
    "C = np.array(list(zip(C_x, C_y)), dtype=np.float32)\n",
    "             \n",
    "#Implementing K means using numpy\n",
    "from copy import deepcopy\n",
    "C_old = np.zeros(C.shape)\n",
    "clusters = np.zeros(len(features))\n",
    "\n",
    "# Calculating Distance between new centroids and old centroids\n",
    "error = dist(C, C_old, None)\n",
    "\n",
    "# Minimizing till the error is zero\n",
    "while error != 0:\n",
    "   \n",
    "    for i in range(len(features)):\n",
    "        distances = dist(features[i], C)\n",
    "        cluster = np.argmin(distances)\n",
    "        clusters[i] = cluster\n",
    "    \n",
    "    C_old = deepcopy(C)\n",
    "    \n",
    "    # Calculating the new centroids by taking the average value\n",
    "    for i in range(k):\n",
    "        points = [features[j] for j in range(len(features)) if clusters[j] == i]\n",
    "        C[i] = np.mean(points, axis=0)\n",
    "    error = dist(C, C_old, None)\n",
    "\n",
    "#Centroids              \n",
    "C             "
   ]
  },
  {
   "cell_type": "code",
   "execution_count": null,
   "metadata": {},
   "outputs": [],
   "source": [
    "#Plotting graph\n",
    "colors = ['m', 'g','k','lightgrey','brown','r','coral','chocolate','darkorange','y','c','b','m','pink','slategrey']\n",
    "fig, ax = plt.subplots()\n",
    "for i in range(k):\n",
    "        points = np.array([features[j] for j in range(len(features)) if clusters[j] == i])\n",
    "        ax.scatter(points[:, 0], points[:, 1], s=7, c=colors[i]) \n",
    "ax.scatter(C[:, 0], C[:, 1], marker='*', s=200, c='#050505')"
   ]
  },
  {
   "cell_type": "code",
   "execution_count": null,
   "metadata": {},
   "outputs": [],
   "source": [
    "#Implementing using sklearn\n",
    "from sklearn.cluster import KMeans\n",
    "kmeans = KMeans(n_clusters=15)\n",
    "kmeans = kmeans.fit(features)\n",
    "labels = kmeans.predict(features)\n",
    "\n",
    "centroids_using_sklearn = kmeans.cluster_centers_\n",
    "print(centroids_using_sklearn)"
   ]
  },
  {
   "cell_type": "code",
   "execution_count": null,
   "metadata": {},
   "outputs": [],
   "source": [
    "#Plotting the graph with Centroid of K-Means\n",
    "fig, ax = plt.subplots()\n",
    "ax.scatter(features[:, 0], features[:, 1], s=7, c=labels, cmap='rainbow')        \n",
    "ax.scatter(centroids_using_sklearn[:, 0], centroids_using_sklearn[:, 1], marker='*', s=200, c='#050505')"
   ]
  },
  {
   "cell_type": "code",
   "execution_count": null,
   "metadata": {},
   "outputs": [],
   "source": [
    "#V_measure Score\n",
    "from sklearn.metrics import v_measure_score \n",
    "v_measure_score(new_data['result'], labels)"
   ]
  },
  {
   "cell_type": "markdown",
   "metadata": {},
   "source": [
    "By visualizing the two graphs we can say that sklearn correcltly identified the clusters and their respective centroids while the numpy algorithm has some misclassfication of centriods.It is able to find out 12 clusters correcltly. In remaining three,it placed two centroid in the same cluster and the last centroid in between 2 clusters. We can improve the performance by taking the initial clusters to be random rather than initilizing with zero."
   ]
  },
  {
   "cell_type": "code",
   "execution_count": null,
   "metadata": {},
   "outputs": [],
   "source": []
  }
 ],
 "metadata": {
  "kernelspec": {
   "display_name": "Python 3",
   "language": "python",
   "name": "python3"
  },
  "language_info": {
   "codemirror_mode": {
    "name": "ipython",
    "version": 3
   },
   "file_extension": ".py",
   "mimetype": "text/x-python",
   "name": "python",
   "nbconvert_exporter": "python",
   "pygments_lexer": "ipython3",
   "version": "3.7.4"
  }
 },
 "nbformat": 4,
 "nbformat_minor": 2
}
